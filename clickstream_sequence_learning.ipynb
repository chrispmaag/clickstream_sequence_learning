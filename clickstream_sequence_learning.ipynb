{
 "cells": [
  {
   "cell_type": "markdown",
   "metadata": {
    "id": "tyN5gj274OgN"
   },
   "source": [
    "# Clickstream Personalization with Sequence Learning\n",
    "Your goal is to predict outcomes of online browsing sessions through session-level-features or sequence of page visits to predict if the next sequence of events/session outcome will be a purchase or not. Working off session level data is definitely more error prone than on a journey level, but it provides the opportunity to initiate nudge models/coupons to help personalize at each session level.\n",
    "\n",
    "Models used in this assignment are similar to https://github.com/guillaume-chevalier/seq2seq-signal-prediction/blob/master/seq2seq.ipynb\n",
    "\n",
    "## You have two major tasks today:\n",
    "\n",
    "\n",
    "1.   To process raw session level data to generate sequence data/sequence models.\n",
    "2.   Compare performance of sequence models with session-feature level models.\n",
    "\n",
    "## Your manager needs your help to answer the following question: \n",
    "- Which is the better strategy for session level predictions ther lead to personalization: \n",
    "  - a) page visit sequences (less complexity for data pre-process) or\n",
    "  - b) session-level features (more data avy process)\n",
    "\n"
   ]
  },
  {
   "cell_type": "markdown",
   "metadata": {
    "id": "G72VpQoe9qyi"
   },
   "source": [
    "# Task 0: Getting familiar with the Data!"
   ]
  },
  {
   "cell_type": "code",
   "execution_count": 1,
   "metadata": {
    "colab": {
     "base_uri": "https://localhost:8080/"
    },
    "id": "qLLIlcrdvmw1",
    "outputId": "d57cac30-3fbe-4af5-829d-31fa6f5e782c"
   },
   "outputs": [
    {
     "name": "stdout",
     "output_type": "stream",
     "text": [
      "Mounted at /content/drive\n"
     ]
    }
   ],
   "source": [
    "#Mount the RAW session level data: shopping.pkl\n",
    "from google.colab import drive\n",
    "drive.mount('/content/drive')"
   ]
  },
  {
   "cell_type": "code",
   "execution_count": 2,
   "metadata": {
    "colab": {
     "base_uri": "https://localhost:8080/"
    },
    "id": "suaLXdkkwBzy",
    "outputId": "81ea9bb1-4246-4d89-e3c3-569146f226bd"
   },
   "outputs": [
    {
     "name": "stdout",
     "output_type": "stream",
     "text": [
      "Flask-Tutorial-master\n",
      "Sequence_Learning_on_Cosmetics_Data_4B_v1_cpm.ipynb\n",
      "Session_features.pkl\n",
      "shopping.pkl\n",
      "Week_10_LSTM_Assignment_IMDB_Sentiment_Analysis_cpm.ipynb\n"
     ]
    }
   ],
   "source": [
    "import os\n",
    "# The path below should point to the directory containing this notebook and the associated utility files\n",
    "# Change it if necessary\n",
    "os.chdir('/content/drive/MyDrive/fourthbrain/week_10')\n",
    "!ls"
   ]
  },
  {
   "cell_type": "code",
   "execution_count": 3,
   "metadata": {
    "id": "Qbh2P_qs9i1_"
   },
   "outputs": [],
   "source": [
    "# Import all libraries\n",
    "import numpy as np\n",
    "import pandas as pd\n",
    "from sklearn.preprocessing import OneHotEncoder\n",
    "from keras.models import Sequential\n",
    "from keras.layers import Dense\n",
    "from keras.layers import LSTM\n",
    "from keras.layers import Flatten\n",
    "from sklearn.preprocessing import MinMaxScaler\n",
    "from sklearn.metrics import mean_squared_error\n",
    "from matplotlib import pyplot\n",
    "from keras.layers import Bidirectional\n",
    "from keras.layers import TimeDistributed"
   ]
  },
  {
   "cell_type": "code",
   "execution_count": 4,
   "metadata": {
    "colab": {
     "base_uri": "https://localhost:8080/",
     "height": 221
    },
    "id": "S5UdJL8sP6fz",
    "outputId": "c8bbceda-b6e5-4256-f1e8-b1fea96ae49c"
   },
   "outputs": [
    {
     "name": "stdout",
     "output_type": "stream",
     "text": [
      "Shape of data= (1500000, 12)\n"
     ]
    },
    {
     "data": {
      "text/html": [
       "<div>\n",
       "<style scoped>\n",
       "    .dataframe tbody tr th:only-of-type {\n",
       "        vertical-align: middle;\n",
       "    }\n",
       "\n",
       "    .dataframe tbody tr th {\n",
       "        vertical-align: top;\n",
       "    }\n",
       "\n",
       "    .dataframe thead th {\n",
       "        text-align: right;\n",
       "    }\n",
       "</style>\n",
       "<table border=\"1\" class=\"dataframe\">\n",
       "  <thead>\n",
       "    <tr style=\"text-align: right;\">\n",
       "      <th></th>\n",
       "      <th>event_time</th>\n",
       "      <th>event_type</th>\n",
       "      <th>product_id</th>\n",
       "      <th>category_id</th>\n",
       "      <th>brand</th>\n",
       "      <th>price</th>\n",
       "      <th>user_id</th>\n",
       "      <th>user_session</th>\n",
       "      <th>year</th>\n",
       "      <th>month</th>\n",
       "      <th>weekday</th>\n",
       "      <th>hour</th>\n",
       "    </tr>\n",
       "  </thead>\n",
       "  <tbody>\n",
       "    <tr>\n",
       "      <th>0</th>\n",
       "      <td>2019-12-01 00:00:00</td>\n",
       "      <td>remove_from_cart</td>\n",
       "      <td>5712790</td>\n",
       "      <td>1487580005268456287</td>\n",
       "      <td>f.o.x</td>\n",
       "      <td>6.27</td>\n",
       "      <td>576802932</td>\n",
       "      <td>51d85cb0-897f-48d2-918b-ad63965c12dc</td>\n",
       "      <td>2019</td>\n",
       "      <td>12</td>\n",
       "      <td>Sunday</td>\n",
       "      <td>0</td>\n",
       "    </tr>\n",
       "    <tr>\n",
       "      <th>1</th>\n",
       "      <td>2019-12-01 00:00:00</td>\n",
       "      <td>view</td>\n",
       "      <td>5764655</td>\n",
       "      <td>1487580005411062629</td>\n",
       "      <td>cnd</td>\n",
       "      <td>29.05</td>\n",
       "      <td>412120092</td>\n",
       "      <td>8adff31e-2051-4894-9758-224bfa8aec18</td>\n",
       "      <td>2019</td>\n",
       "      <td>12</td>\n",
       "      <td>Sunday</td>\n",
       "      <td>0</td>\n",
       "    </tr>\n",
       "    <tr>\n",
       "      <th>2</th>\n",
       "      <td>2019-12-01 00:00:02</td>\n",
       "      <td>cart</td>\n",
       "      <td>4958</td>\n",
       "      <td>1487580009471148064</td>\n",
       "      <td>runail</td>\n",
       "      <td>1.19</td>\n",
       "      <td>494077766</td>\n",
       "      <td>c99a50e8-2fac-4c4d-89ec-41c05f114554</td>\n",
       "      <td>2019</td>\n",
       "      <td>12</td>\n",
       "      <td>Sunday</td>\n",
       "      <td>0</td>\n",
       "    </tr>\n",
       "    <tr>\n",
       "      <th>3</th>\n",
       "      <td>2019-12-01 00:00:05</td>\n",
       "      <td>view</td>\n",
       "      <td>5848413</td>\n",
       "      <td>1487580007675986893</td>\n",
       "      <td>freedecor</td>\n",
       "      <td>0.79</td>\n",
       "      <td>348405118</td>\n",
       "      <td>722ffea5-73c0-4924-8e8f-371ff8031af4</td>\n",
       "      <td>2019</td>\n",
       "      <td>12</td>\n",
       "      <td>Sunday</td>\n",
       "      <td>0</td>\n",
       "    </tr>\n",
       "    <tr>\n",
       "      <th>4</th>\n",
       "      <td>2019-12-01 00:00:07</td>\n",
       "      <td>view</td>\n",
       "      <td>5824148</td>\n",
       "      <td>1487580005511725929</td>\n",
       "      <td>nan</td>\n",
       "      <td>5.56</td>\n",
       "      <td>576005683</td>\n",
       "      <td>28172809-7e4a-45ce-bab0-5efa90117cd5</td>\n",
       "      <td>2019</td>\n",
       "      <td>12</td>\n",
       "      <td>Sunday</td>\n",
       "      <td>0</td>\n",
       "    </tr>\n",
       "  </tbody>\n",
       "</table>\n",
       "</div>"
      ],
      "text/plain": [
       "           event_time        event_type  product_id  ...  month weekday  hour\n",
       "0 2019-12-01 00:00:00  remove_from_cart     5712790  ...     12  Sunday     0\n",
       "1 2019-12-01 00:00:00              view     5764655  ...     12  Sunday     0\n",
       "2 2019-12-01 00:00:02              cart        4958  ...     12  Sunday     0\n",
       "3 2019-12-01 00:00:05              view     5848413  ...     12  Sunday     0\n",
       "4 2019-12-01 00:00:07              view     5824148  ...     12  Sunday     0\n",
       "\n",
       "[5 rows x 12 columns]"
      ]
     },
     "execution_count": 4,
     "metadata": {
      "tags": []
     },
     "output_type": "execute_result"
    }
   ],
   "source": [
    "#Read and look at the RAW data\n",
    "data = pd.read_pickle('shopping.pkl')\n",
    "print('Shape of data=', data.shape)\n",
    "data.head()"
   ]
  },
  {
   "cell_type": "markdown",
   "metadata": {
    "id": "xGvjhdUnu2SB"
   },
   "source": [
    "So for each unique user_session ID, the data fields that are collected are (product ID, category ID, brand, price, user ID, year, month, weekday, hour and the event (view, cart, remove, purchase). Each event is time tagged!"
   ]
  },
  {
   "cell_type": "code",
   "execution_count": 5,
   "metadata": {
    "colab": {
     "base_uri": "https://localhost:8080/",
     "height": 241
    },
    "id": "Ku0_TrjDuDhu",
    "outputId": "2d290d5f-b1fb-4865-99ea-8549c4847593"
   },
   "outputs": [
    {
     "name": "stdout",
     "output_type": "stream",
     "text": [
      "Shape of data= (1500000, 36)\n"
     ]
    },
    {
     "data": {
      "text/html": [
       "<div>\n",
       "<style scoped>\n",
       "    .dataframe tbody tr th:only-of-type {\n",
       "        vertical-align: middle;\n",
       "    }\n",
       "\n",
       "    .dataframe tbody tr th {\n",
       "        vertical-align: top;\n",
       "    }\n",
       "\n",
       "    .dataframe thead th {\n",
       "        text-align: right;\n",
       "    }\n",
       "</style>\n",
       "<table border=\"1\" class=\"dataframe\">\n",
       "  <thead>\n",
       "    <tr style=\"text-align: right;\">\n",
       "      <th></th>\n",
       "      <th>TotalEventsInSession</th>\n",
       "      <th>interactionTime</th>\n",
       "      <th>#TimesCartedinSession</th>\n",
       "      <th>#TimesViewedinSession</th>\n",
       "      <th>maxPrice</th>\n",
       "      <th>minPrice</th>\n",
       "      <th>AvgAmtCartedInSession</th>\n",
       "      <th>AvgAmtViewedInSession</th>\n",
       "      <th>#BrandsCartedInSession</th>\n",
       "      <th>#BrandsViewedInSession</th>\n",
       "      <th>#CategoriesCartedInSession</th>\n",
       "      <th>#CategoriesViewedInSession</th>\n",
       "      <th>OverallAmtUserCarted</th>\n",
       "      <th>OverallAmtUserViewed</th>\n",
       "      <th>#ProdsCartedInSession</th>\n",
       "      <th>#ProdsViewedInSession</th>\n",
       "      <th>Fr</th>\n",
       "      <th>Mon</th>\n",
       "      <th>Sat</th>\n",
       "      <th>Sun</th>\n",
       "      <th>Thu</th>\n",
       "      <th>Tue</th>\n",
       "      <th>Wed</th>\n",
       "      <th>2019</th>\n",
       "      <th>Nov</th>\n",
       "      <th>Oct</th>\n",
       "      <th>Sep</th>\n",
       "      <th>Afternoon</th>\n",
       "      <th>Dawn</th>\n",
       "      <th>EarlyMorning</th>\n",
       "      <th>Evening</th>\n",
       "      <th>Morning</th>\n",
       "      <th>Night</th>\n",
       "      <th>Noon</th>\n",
       "      <th>Weekend</th>\n",
       "      <th>Purchase</th>\n",
       "    </tr>\n",
       "  </thead>\n",
       "  <tbody>\n",
       "    <tr>\n",
       "      <th>0</th>\n",
       "      <td>7</td>\n",
       "      <td>493.0</td>\n",
       "      <td>0</td>\n",
       "      <td>7</td>\n",
       "      <td>1349.46</td>\n",
       "      <td>131.53</td>\n",
       "      <td>0.00</td>\n",
       "      <td>812.941429</td>\n",
       "      <td>0</td>\n",
       "      <td>7</td>\n",
       "      <td>0</td>\n",
       "      <td>7</td>\n",
       "      <td>145.095000</td>\n",
       "      <td>187.166429</td>\n",
       "      <td>0</td>\n",
       "      <td>7</td>\n",
       "      <td>0</td>\n",
       "      <td>0</td>\n",
       "      <td>0</td>\n",
       "      <td>0</td>\n",
       "      <td>1</td>\n",
       "      <td>0</td>\n",
       "      <td>0</td>\n",
       "      <td>1</td>\n",
       "      <td>0</td>\n",
       "      <td>1</td>\n",
       "      <td>0</td>\n",
       "      <td>0</td>\n",
       "      <td>1</td>\n",
       "      <td>0</td>\n",
       "      <td>0</td>\n",
       "      <td>0</td>\n",
       "      <td>0</td>\n",
       "      <td>0</td>\n",
       "      <td>0</td>\n",
       "      <td>0</td>\n",
       "    </tr>\n",
       "    <tr>\n",
       "      <th>1</th>\n",
       "      <td>18</td>\n",
       "      <td>585.0</td>\n",
       "      <td>1</td>\n",
       "      <td>16</td>\n",
       "      <td>1747.79</td>\n",
       "      <td>152.58</td>\n",
       "      <td>289.52</td>\n",
       "      <td>621.671250</td>\n",
       "      <td>1</td>\n",
       "      <td>16</td>\n",
       "      <td>1</td>\n",
       "      <td>16</td>\n",
       "      <td>461.202273</td>\n",
       "      <td>653.235432</td>\n",
       "      <td>1</td>\n",
       "      <td>16</td>\n",
       "      <td>0</td>\n",
       "      <td>0</td>\n",
       "      <td>0</td>\n",
       "      <td>1</td>\n",
       "      <td>0</td>\n",
       "      <td>0</td>\n",
       "      <td>0</td>\n",
       "      <td>1</td>\n",
       "      <td>0</td>\n",
       "      <td>1</td>\n",
       "      <td>0</td>\n",
       "      <td>0</td>\n",
       "      <td>0</td>\n",
       "      <td>1</td>\n",
       "      <td>0</td>\n",
       "      <td>0</td>\n",
       "      <td>0</td>\n",
       "      <td>0</td>\n",
       "      <td>0</td>\n",
       "      <td>1</td>\n",
       "    </tr>\n",
       "    <tr>\n",
       "      <th>2</th>\n",
       "      <td>1</td>\n",
       "      <td>0.0</td>\n",
       "      <td>0</td>\n",
       "      <td>1</td>\n",
       "      <td>1422.10</td>\n",
       "      <td>1422.10</td>\n",
       "      <td>0.00</td>\n",
       "      <td>1422.100000</td>\n",
       "      <td>0</td>\n",
       "      <td>1</td>\n",
       "      <td>0</td>\n",
       "      <td>1</td>\n",
       "      <td>0.000000</td>\n",
       "      <td>625.779478</td>\n",
       "      <td>0</td>\n",
       "      <td>1</td>\n",
       "      <td>0</td>\n",
       "      <td>0</td>\n",
       "      <td>0</td>\n",
       "      <td>0</td>\n",
       "      <td>0</td>\n",
       "      <td>0</td>\n",
       "      <td>1</td>\n",
       "      <td>1</td>\n",
       "      <td>1</td>\n",
       "      <td>0</td>\n",
       "      <td>0</td>\n",
       "      <td>0</td>\n",
       "      <td>1</td>\n",
       "      <td>0</td>\n",
       "      <td>0</td>\n",
       "      <td>0</td>\n",
       "      <td>0</td>\n",
       "      <td>0</td>\n",
       "      <td>0</td>\n",
       "      <td>0</td>\n",
       "    </tr>\n",
       "    <tr>\n",
       "      <th>3</th>\n",
       "      <td>1</td>\n",
       "      <td>0.0</td>\n",
       "      <td>0</td>\n",
       "      <td>1</td>\n",
       "      <td>308.63</td>\n",
       "      <td>308.63</td>\n",
       "      <td>0.00</td>\n",
       "      <td>308.630000</td>\n",
       "      <td>0</td>\n",
       "      <td>1</td>\n",
       "      <td>0</td>\n",
       "      <td>1</td>\n",
       "      <td>0.000000</td>\n",
       "      <td>609.110000</td>\n",
       "      <td>0</td>\n",
       "      <td>1</td>\n",
       "      <td>0</td>\n",
       "      <td>0</td>\n",
       "      <td>1</td>\n",
       "      <td>0</td>\n",
       "      <td>0</td>\n",
       "      <td>0</td>\n",
       "      <td>0</td>\n",
       "      <td>1</td>\n",
       "      <td>1</td>\n",
       "      <td>0</td>\n",
       "      <td>0</td>\n",
       "      <td>0</td>\n",
       "      <td>0</td>\n",
       "      <td>1</td>\n",
       "      <td>0</td>\n",
       "      <td>0</td>\n",
       "      <td>0</td>\n",
       "      <td>0</td>\n",
       "      <td>0</td>\n",
       "      <td>0</td>\n",
       "    </tr>\n",
       "    <tr>\n",
       "      <th>4</th>\n",
       "      <td>11</td>\n",
       "      <td>509.0</td>\n",
       "      <td>4</td>\n",
       "      <td>6</td>\n",
       "      <td>171.90</td>\n",
       "      <td>131.51</td>\n",
       "      <td>171.90</td>\n",
       "      <td>158.220000</td>\n",
       "      <td>4</td>\n",
       "      <td>6</td>\n",
       "      <td>4</td>\n",
       "      <td>6</td>\n",
       "      <td>153.899000</td>\n",
       "      <td>150.426207</td>\n",
       "      <td>4</td>\n",
       "      <td>6</td>\n",
       "      <td>1</td>\n",
       "      <td>0</td>\n",
       "      <td>0</td>\n",
       "      <td>0</td>\n",
       "      <td>0</td>\n",
       "      <td>0</td>\n",
       "      <td>0</td>\n",
       "      <td>1</td>\n",
       "      <td>0</td>\n",
       "      <td>1</td>\n",
       "      <td>0</td>\n",
       "      <td>0</td>\n",
       "      <td>1</td>\n",
       "      <td>0</td>\n",
       "      <td>0</td>\n",
       "      <td>0</td>\n",
       "      <td>0</td>\n",
       "      <td>0</td>\n",
       "      <td>0</td>\n",
       "      <td>1</td>\n",
       "    </tr>\n",
       "  </tbody>\n",
       "</table>\n",
       "</div>"
      ],
      "text/plain": [
       "   TotalEventsInSession  interactionTime  ...  Weekend  Purchase\n",
       "0                     7            493.0  ...        0         0\n",
       "1                    18            585.0  ...        0         1\n",
       "2                     1              0.0  ...        0         0\n",
       "3                     1              0.0  ...        0         0\n",
       "4                    11            509.0  ...        0         1\n",
       "\n",
       "[5 rows x 36 columns]"
      ]
     },
     "execution_count": 5,
     "metadata": {
      "tags": []
     },
     "output_type": "execute_result"
    }
   ],
   "source": [
    "#Next lets look at the feature-level session data\n",
    "feat = pd.read_pickle('Session_features.pkl')\n",
    "print('Shape of data=', feat.shape)\n",
    "feat.head()"
   ]
  },
  {
   "cell_type": "markdown",
   "metadata": {
    "id": "ptSEMwzY-I-q"
   },
   "source": [
    "## 1.5M session-level records are given to you. Your goal is to find which data set is best for session-level \"purchase\" classification!"
   ]
  },
  {
   "cell_type": "markdown",
   "metadata": {
    "id": "qW9BT7eS-oH7"
   },
   "source": [
    "# Task 1: Generate Data models out of sequence data per session. \n",
    "Here, sequence of events (view, cart, remove, purchase) are to be generated per session to see if the sequences just by themselves can indicate if a purchase would occur by the end of the session or not!\n",
    "This work is the modification from the paper: https://arxiv.org/ftp/arxiv/papers/2010/2010.02503.pdf"
   ]
  },
  {
   "cell_type": "markdown",
   "metadata": {
    "id": "1nW-ZTezxAEw"
   },
   "source": [
    "## Step 1: Create sequence data per session"
   ]
  },
  {
   "cell_type": "code",
   "execution_count": 6,
   "metadata": {
    "id": "z7fl9XZMP6f0"
   },
   "outputs": [],
   "source": [
    "# Convert the Events to numeric sequences\n",
    "events = {'purchase':1,'cart': 2,'view': 3, 'remove_from_cart':4}\n",
    "data['event'] = data.event_type.map(events)"
   ]
  },
  {
   "cell_type": "code",
   "execution_count": 7,
   "metadata": {
    "colab": {
     "base_uri": "https://localhost:8080/",
     "height": 204
    },
    "id": "_XPpZb68P6f0",
    "outputId": "f8be8a6d-e77a-4663-9673-35435d454961"
   },
   "outputs": [
    {
     "data": {
      "text/html": [
       "<div>\n",
       "<style scoped>\n",
       "    .dataframe tbody tr th:only-of-type {\n",
       "        vertical-align: middle;\n",
       "    }\n",
       "\n",
       "    .dataframe tbody tr th {\n",
       "        vertical-align: top;\n",
       "    }\n",
       "\n",
       "    .dataframe thead th {\n",
       "        text-align: right;\n",
       "    }\n",
       "</style>\n",
       "<table border=\"1\" class=\"dataframe\">\n",
       "  <thead>\n",
       "    <tr style=\"text-align: right;\">\n",
       "      <th></th>\n",
       "      <th>event_time</th>\n",
       "      <th>event_type</th>\n",
       "      <th>product_id</th>\n",
       "      <th>category_id</th>\n",
       "      <th>brand</th>\n",
       "      <th>price</th>\n",
       "      <th>user_id</th>\n",
       "      <th>user_session</th>\n",
       "      <th>year</th>\n",
       "      <th>month</th>\n",
       "      <th>weekday</th>\n",
       "      <th>hour</th>\n",
       "      <th>event</th>\n",
       "    </tr>\n",
       "  </thead>\n",
       "  <tbody>\n",
       "    <tr>\n",
       "      <th>0</th>\n",
       "      <td>2019-12-01 00:00:00</td>\n",
       "      <td>remove_from_cart</td>\n",
       "      <td>5712790</td>\n",
       "      <td>1487580005268456287</td>\n",
       "      <td>f.o.x</td>\n",
       "      <td>6.27</td>\n",
       "      <td>576802932</td>\n",
       "      <td>51d85cb0-897f-48d2-918b-ad63965c12dc</td>\n",
       "      <td>2019</td>\n",
       "      <td>12</td>\n",
       "      <td>Sunday</td>\n",
       "      <td>0</td>\n",
       "      <td>4</td>\n",
       "    </tr>\n",
       "    <tr>\n",
       "      <th>1</th>\n",
       "      <td>2019-12-01 00:00:00</td>\n",
       "      <td>view</td>\n",
       "      <td>5764655</td>\n",
       "      <td>1487580005411062629</td>\n",
       "      <td>cnd</td>\n",
       "      <td>29.05</td>\n",
       "      <td>412120092</td>\n",
       "      <td>8adff31e-2051-4894-9758-224bfa8aec18</td>\n",
       "      <td>2019</td>\n",
       "      <td>12</td>\n",
       "      <td>Sunday</td>\n",
       "      <td>0</td>\n",
       "      <td>3</td>\n",
       "    </tr>\n",
       "    <tr>\n",
       "      <th>2</th>\n",
       "      <td>2019-12-01 00:00:02</td>\n",
       "      <td>cart</td>\n",
       "      <td>4958</td>\n",
       "      <td>1487580009471148064</td>\n",
       "      <td>runail</td>\n",
       "      <td>1.19</td>\n",
       "      <td>494077766</td>\n",
       "      <td>c99a50e8-2fac-4c4d-89ec-41c05f114554</td>\n",
       "      <td>2019</td>\n",
       "      <td>12</td>\n",
       "      <td>Sunday</td>\n",
       "      <td>0</td>\n",
       "      <td>2</td>\n",
       "    </tr>\n",
       "    <tr>\n",
       "      <th>3</th>\n",
       "      <td>2019-12-01 00:00:05</td>\n",
       "      <td>view</td>\n",
       "      <td>5848413</td>\n",
       "      <td>1487580007675986893</td>\n",
       "      <td>freedecor</td>\n",
       "      <td>0.79</td>\n",
       "      <td>348405118</td>\n",
       "      <td>722ffea5-73c0-4924-8e8f-371ff8031af4</td>\n",
       "      <td>2019</td>\n",
       "      <td>12</td>\n",
       "      <td>Sunday</td>\n",
       "      <td>0</td>\n",
       "      <td>3</td>\n",
       "    </tr>\n",
       "    <tr>\n",
       "      <th>4</th>\n",
       "      <td>2019-12-01 00:00:07</td>\n",
       "      <td>view</td>\n",
       "      <td>5824148</td>\n",
       "      <td>1487580005511725929</td>\n",
       "      <td>nan</td>\n",
       "      <td>5.56</td>\n",
       "      <td>576005683</td>\n",
       "      <td>28172809-7e4a-45ce-bab0-5efa90117cd5</td>\n",
       "      <td>2019</td>\n",
       "      <td>12</td>\n",
       "      <td>Sunday</td>\n",
       "      <td>0</td>\n",
       "      <td>3</td>\n",
       "    </tr>\n",
       "  </tbody>\n",
       "</table>\n",
       "</div>"
      ],
      "text/plain": [
       "           event_time        event_type  product_id  ...  weekday hour  event\n",
       "0 2019-12-01 00:00:00  remove_from_cart     5712790  ...   Sunday    0      4\n",
       "1 2019-12-01 00:00:00              view     5764655  ...   Sunday    0      3\n",
       "2 2019-12-01 00:00:02              cart        4958  ...   Sunday    0      2\n",
       "3 2019-12-01 00:00:05              view     5848413  ...   Sunday    0      3\n",
       "4 2019-12-01 00:00:07              view     5824148  ...   Sunday    0      3\n",
       "\n",
       "[5 rows x 13 columns]"
      ]
     },
     "execution_count": 7,
     "metadata": {
      "tags": []
     },
     "output_type": "execute_result"
    }
   ],
   "source": [
    "# Sort the events by 'event time'\n",
    "data = data.sort_values('event_time')\n",
    "data.head()"
   ]
  },
  {
   "cell_type": "markdown",
   "metadata": {
    "id": "kkFzILKzkRrt"
   },
   "source": [
    "Next, pre-process the data to extract a Purchase (event=1) or not (event>1) label."
   ]
  },
  {
   "cell_type": "code",
   "execution_count": 8,
   "metadata": {
    "id": "YEOeD6osP6f1"
   },
   "outputs": [],
   "source": [
    "sequence = data.groupby('user_session')['event'].apply(list)\n",
    "sequence = sequence.reset_index()\n",
    "sequence['purchase'] = sequence['event'].apply(lambda x: 1 if 1 in x else 0)\n",
    "sequence = sequence[sequence['event'].map(len)> 1]"
   ]
  },
  {
   "cell_type": "code",
   "execution_count": 9,
   "metadata": {
    "colab": {
     "base_uri": "https://localhost:8080/",
     "height": 221
    },
    "id": "fl26fdnvP6f4",
    "outputId": "57640b65-ddb7-46b7-a535-dc809efbb646",
    "scrolled": true
   },
   "outputs": [
    {
     "name": "stdout",
     "output_type": "stream",
     "text": [
      "Total number of records= 119480\n"
     ]
    },
    {
     "data": {
      "text/html": [
       "<div>\n",
       "<style scoped>\n",
       "    .dataframe tbody tr th:only-of-type {\n",
       "        vertical-align: middle;\n",
       "    }\n",
       "\n",
       "    .dataframe tbody tr th {\n",
       "        vertical-align: top;\n",
       "    }\n",
       "\n",
       "    .dataframe thead th {\n",
       "        text-align: right;\n",
       "    }\n",
       "</style>\n",
       "<table border=\"1\" class=\"dataframe\">\n",
       "  <thead>\n",
       "    <tr style=\"text-align: right;\">\n",
       "      <th></th>\n",
       "      <th>user_session</th>\n",
       "      <th>event</th>\n",
       "      <th>purchase</th>\n",
       "    </tr>\n",
       "  </thead>\n",
       "  <tbody>\n",
       "    <tr>\n",
       "      <th>2</th>\n",
       "      <td>00018d32-afba-4db8-9d3d-562c83580579</td>\n",
       "      <td>[3, 2]</td>\n",
       "      <td>0</td>\n",
       "    </tr>\n",
       "    <tr>\n",
       "      <th>4</th>\n",
       "      <td>0001d956-e104-487b-a045-3864d7b9a022</td>\n",
       "      <td>[2, 2, 2, 2, 2, 2, 2]</td>\n",
       "      <td>0</td>\n",
       "    </tr>\n",
       "    <tr>\n",
       "      <th>5</th>\n",
       "      <td>0001ebd4-441d-4c2f-a888-929a63b2afe3</td>\n",
       "      <td>[3, 3, 3, 3, 3, 3, 3, 3]</td>\n",
       "      <td>0</td>\n",
       "    </tr>\n",
       "    <tr>\n",
       "      <th>7</th>\n",
       "      <td>00027027-c51e-4b8f-82bc-0122b3d44204</td>\n",
       "      <td>[3, 3, 3, 3, 3, 3, 3, 3, 3, 3, 2, 2, 2, 3, 3, ...</td>\n",
       "      <td>0</td>\n",
       "    </tr>\n",
       "    <tr>\n",
       "      <th>9</th>\n",
       "      <td>0002b72e-c9b0-4b2e-99c8-a6c8630c4cfe</td>\n",
       "      <td>[2, 3, 2, 2, 4, 4, 4, 4, 4, 4, 3, 3, 3, 4, 4, ...</td>\n",
       "      <td>0</td>\n",
       "    </tr>\n",
       "  </tbody>\n",
       "</table>\n",
       "</div>"
      ],
      "text/plain": [
       "                           user_session  ... purchase\n",
       "2  00018d32-afba-4db8-9d3d-562c83580579  ...        0\n",
       "4  0001d956-e104-487b-a045-3864d7b9a022  ...        0\n",
       "5  0001ebd4-441d-4c2f-a888-929a63b2afe3  ...        0\n",
       "7  00027027-c51e-4b8f-82bc-0122b3d44204  ...        0\n",
       "9  0002b72e-c9b0-4b2e-99c8-a6c8630c4cfe  ...        0\n",
       "\n",
       "[5 rows x 3 columns]"
      ]
     },
     "execution_count": 9,
     "metadata": {
      "tags": []
     },
     "output_type": "execute_result"
    }
   ],
   "source": [
    "#The sequence data should not contain the \"purchase field\" so it is filtered out\n",
    "sequence['event']= sequence.event.apply(lambda row: list(filter(lambda a: a != 1, row)))\n",
    "print('Total number of records=', sequence.shape[0])\n",
    "sequence.head()"
   ]
  },
  {
   "cell_type": "markdown",
   "metadata": {
    "id": "pU6mRjRiEGHZ"
   },
   "source": [
    "# So 'sequence' represents data regarding per-session browsing sequence.\n",
    "But what does an average sequence look like? Can some sequences be specifically long and others be too short? Lets analyze..."
   ]
  },
  {
   "cell_type": "code",
   "execution_count": 10,
   "metadata": {
    "id": "K2Mf3A5yP6f4"
   },
   "outputs": [],
   "source": [
    "#Find the length of events per user-session\n",
    "length = sequence['event'].map(len).to_list()"
   ]
  },
  {
   "cell_type": "code",
   "execution_count": 11,
   "metadata": {
    "id": "MJrKuMCDP6f5"
   },
   "outputs": [],
   "source": [
    "import seaborn as sns"
   ]
  },
  {
   "cell_type": "code",
   "execution_count": 13,
   "metadata": {
    "colab": {
     "base_uri": "https://localhost:8080/",
     "height": 319
    },
    "id": "agn_AM6dP6f5",
    "outputId": "4ce7a3c2-0db7-4c6b-8eed-906719aa60a7"
   },
   "outputs": [
    {
     "name": "stderr",
     "output_type": "stream",
     "text": [
      "/usr/local/lib/python3.6/dist-packages/seaborn/distributions.py:2557: FutureWarning: `distplot` is a deprecated function and will be removed in a future version. Please adapt your code to use either `displot` (a figure-level function with similar flexibility) or `histplot` (an axes-level function for histograms).\n",
      "  warnings.warn(msg, FutureWarning)\n"
     ]
    },
    {
     "data": {
      "image/png": "[encoded data removed]",
      "text/plain": [
       "<Figure size 432x288 with 1 Axes>"
      ]
     },
     "metadata": {
      "needs_background": "light",
      "tags": []
     },
     "output_type": "display_data"
    }
   ],
   "source": [
    "sns.distplot(length)"
   ]
  },
  {
   "cell_type": "markdown",
   "metadata": {
    "id": "alxwobvPP6f6"
   },
   "source": [
    "# So we see, most sequences are about 100 or shorter. \n",
    "One major task is to find the optimal sequence size for highest prediction accuracy. Let's try for small and large sequence sizes to find the difference!\n",
    "# Step 2: Lets analyze up to size 10 sequences and up to size 100 sequences separately!"
   ]
  },
  {
   "cell_type": "code",
   "execution_count": 14,
   "metadata": {
    "id": "dLZ-S5lxP6f6"
   },
   "outputs": [],
   "source": [
    "# select all sequences that are up to 10 events long. Discard remaining sequences.\n",
    "short_sequence_10 = sequence[sequence['event'].map(len) <= 10]"
   ]
  },
  {
   "cell_type": "code",
   "execution_count": 15,
   "metadata": {
    "colab": {
     "base_uri": "https://localhost:8080/",
     "height": 419
    },
    "id": "Fzy_4xh3P6f7",
    "outputId": "20b9d385-4946-4fd1-a2d1-711fe8436d8f"
   },
   "outputs": [
    {
     "data": {
      "text/html": [
       "<div>\n",
       "<style scoped>\n",
       "    .dataframe tbody tr th:only-of-type {\n",
       "        vertical-align: middle;\n",
       "    }\n",
       "\n",
       "    .dataframe tbody tr th {\n",
       "        vertical-align: top;\n",
       "    }\n",
       "\n",
       "    .dataframe thead th {\n",
       "        text-align: right;\n",
       "    }\n",
       "</style>\n",
       "<table border=\"1\" class=\"dataframe\">\n",
       "  <thead>\n",
       "    <tr style=\"text-align: right;\">\n",
       "      <th></th>\n",
       "      <th>user_session</th>\n",
       "      <th>event</th>\n",
       "      <th>purchase</th>\n",
       "    </tr>\n",
       "  </thead>\n",
       "  <tbody>\n",
       "    <tr>\n",
       "      <th>2</th>\n",
       "      <td>00018d32-afba-4db8-9d3d-562c83580579</td>\n",
       "      <td>[3, 2]</td>\n",
       "      <td>0</td>\n",
       "    </tr>\n",
       "    <tr>\n",
       "      <th>4</th>\n",
       "      <td>0001d956-e104-487b-a045-3864d7b9a022</td>\n",
       "      <td>[2, 2, 2, 2, 2, 2, 2]</td>\n",
       "      <td>0</td>\n",
       "    </tr>\n",
       "    <tr>\n",
       "      <th>5</th>\n",
       "      <td>0001ebd4-441d-4c2f-a888-929a63b2afe3</td>\n",
       "      <td>[3, 3, 3, 3, 3, 3, 3, 3]</td>\n",
       "      <td>0</td>\n",
       "    </tr>\n",
       "    <tr>\n",
       "      <th>10</th>\n",
       "      <td>0002ba44-8b73-4ace-b7c8-fe946aa63cc2</td>\n",
       "      <td>[3, 2, 2]</td>\n",
       "      <td>0</td>\n",
       "    </tr>\n",
       "    <tr>\n",
       "      <th>17</th>\n",
       "      <td>0003d895-8dd0-47c2-94e0-92f7a9031c74</td>\n",
       "      <td>[3, 3]</td>\n",
       "      <td>0</td>\n",
       "    </tr>\n",
       "    <tr>\n",
       "      <th>...</th>\n",
       "      <td>...</td>\n",
       "      <td>...</td>\n",
       "      <td>...</td>\n",
       "    </tr>\n",
       "    <tr>\n",
       "      <th>336954</th>\n",
       "      <td>fffb5277-899a-46d8-b51e-2c1f61880f4e</td>\n",
       "      <td>[3, 2]</td>\n",
       "      <td>0</td>\n",
       "    </tr>\n",
       "    <tr>\n",
       "      <th>336963</th>\n",
       "      <td>fffcec5a-c2e3-4e13-8f40-a63f7d14c81f</td>\n",
       "      <td>[4, 4]</td>\n",
       "      <td>0</td>\n",
       "    </tr>\n",
       "    <tr>\n",
       "      <th>336965</th>\n",
       "      <td>fffd3d91-5734-42ac-b149-7403417ec3e2</td>\n",
       "      <td>[3, 3, 3, 3, 3]</td>\n",
       "      <td>0</td>\n",
       "    </tr>\n",
       "    <tr>\n",
       "      <th>336966</th>\n",
       "      <td>fffd5100-6389-486d-8732-9066c47f7ba1</td>\n",
       "      <td>[3, 3, 2, 3, 3]</td>\n",
       "      <td>0</td>\n",
       "    </tr>\n",
       "    <tr>\n",
       "      <th>336974</th>\n",
       "      <td>ffff19e6-2095-4104-b1ac-00cd5f43f0e0</td>\n",
       "      <td>[3, 2, 3]</td>\n",
       "      <td>0</td>\n",
       "    </tr>\n",
       "  </tbody>\n",
       "</table>\n",
       "<p>91715 rows × 3 columns</p>\n",
       "</div>"
      ],
      "text/plain": [
       "                                user_session  ... purchase\n",
       "2       00018d32-afba-4db8-9d3d-562c83580579  ...        0\n",
       "4       0001d956-e104-487b-a045-3864d7b9a022  ...        0\n",
       "5       0001ebd4-441d-4c2f-a888-929a63b2afe3  ...        0\n",
       "10      0002ba44-8b73-4ace-b7c8-fe946aa63cc2  ...        0\n",
       "17      0003d895-8dd0-47c2-94e0-92f7a9031c74  ...        0\n",
       "...                                      ...  ...      ...\n",
       "336954  fffb5277-899a-46d8-b51e-2c1f61880f4e  ...        0\n",
       "336963  fffcec5a-c2e3-4e13-8f40-a63f7d14c81f  ...        0\n",
       "336965  fffd3d91-5734-42ac-b149-7403417ec3e2  ...        0\n",
       "336966  fffd5100-6389-486d-8732-9066c47f7ba1  ...        0\n",
       "336974  ffff19e6-2095-4104-b1ac-00cd5f43f0e0  ...        0\n",
       "\n",
       "[91715 rows x 3 columns]"
      ]
     },
     "execution_count": 15,
     "metadata": {
      "tags": []
     },
     "output_type": "execute_result"
    }
   ],
   "source": [
    "#Let's see how many records come up\n",
    "short_sequence_10"
   ]
  },
  {
   "cell_type": "markdown",
   "metadata": {
    "id": "uDScrStaFqnm"
   },
   "source": [
    "# Now that you have the limited sequence data, create a data model for it.\n",
    "# Step 3: Fitting data models: Simple RNN, GRU, LSTM to predict sessions that have a 'purchase' in them.\n",
    "\n",
    "Apply 70/30 split to data and implement sequence models"
   ]
  },
  {
   "cell_type": "code",
   "execution_count": 16,
   "metadata": {
    "id": "K6qRStdGP6f7"
   },
   "outputs": [],
   "source": [
    "event_sequence = short_sequence_10['event'].to_list()"
   ]
  },
  {
   "cell_type": "code",
   "execution_count": 17,
   "metadata": {
    "id": "MKLHK-SdP6f8"
   },
   "outputs": [],
   "source": [
    "# Pad all sequences with zeros so all inputs have same consistent size of 10\n",
    "from keras.preprocessing.sequence import pad_sequences\n",
    "from sklearn.model_selection import train_test_split\n",
    "event = pad_sequences(event_sequence)"
   ]
  },
  {
   "cell_type": "code",
   "execution_count": 18,
   "metadata": {
    "colab": {
     "base_uri": "https://localhost:8080/"
    },
    "id": "ZuOIbSAcP6f8",
    "outputId": "c207931c-a094-4956-e51a-63e42f1e1dc9",
    "scrolled": true
   },
   "outputs": [
    {
     "name": "stdout",
     "output_type": "stream",
     "text": [
      "Percentage of Purchase sessions= 6.487488415199258\n"
     ]
    }
   ],
   "source": [
    "# One Hot Encoding the Purchase label\n",
    "y = np.array(pd.get_dummies(short_sequence_10['purchase'],prefix='Purchase'))\n",
    "z=np.sum(y[:,1])/len(y)\n",
    "print('Percentage of Purchase sessions=',z*100)"
   ]
  },
  {
   "cell_type": "code",
   "execution_count": 19,
   "metadata": {
    "id": "BbwdeT39h6l5"
   },
   "outputs": [],
   "source": [
    "#Define a function to generate 70/30 data split followed by data resizing!\n",
    "def prepare_train_test_data(data,y):\n",
    "  #input is data[nxd] and Y[nx2], outputs 70/30 split formatted for the sequence models\n",
    "  X_train, X_test, y_train, y_test = train_test_split(data, y, test_size=0.3)\n",
    "  #Resizing is necessary since input to sequence models is (1,d)\n",
    "  X_train = X_train.reshape((X_train.shape[0], 1, X_train.shape[1]))\n",
    "  X_test = X_test.reshape((X_test.shape[0], 1, X_test.shape[1]))\n",
    "  return (X_train,X_test,y_train,y_test)"
   ]
  },
  {
   "cell_type": "code",
   "execution_count": 20,
   "metadata": {
    "colab": {
     "base_uri": "https://localhost:8080/"
    },
    "id": "rjK0Z2WQP6f9",
    "outputId": "d59a635d-bec9-4c76-8ea5-beb55de782a8"
   },
   "outputs": [
    {
     "name": "stdout",
     "output_type": "stream",
     "text": [
      "(64200, 1, 10) (64200, 2)\n"
     ]
    }
   ],
   "source": [
    "X_train, X_test, y_train, y_test=prepare_train_test_data(np.array(event),y)\n",
    "print(X_train.shape, y_train.shape)"
   ]
  },
  {
   "cell_type": "markdown",
   "metadata": {
    "id": "krjPyvUzP6f_"
   },
   "source": [
    "## Finally, train and test a sequence model built using: SimpleRNN, GRU and LSTM and compare results!"
   ]
  },
  {
   "cell_type": "code",
   "execution_count": 21,
   "metadata": {
    "id": "wlp3503JIL83"
   },
   "outputs": [],
   "source": [
    "#Helper functions for this:\n",
    "import matplotlib.pyplot as plt\n",
    "from sklearn.metrics import confusion_matrix\n",
    "\n",
    "# demonstration of calculating metrics for a neural network model using sklearn\n",
    "from sklearn.datasets import make_circles\n",
    "from sklearn.metrics import accuracy_score\n",
    "from sklearn.metrics import precision_score\n",
    "from sklearn.metrics import recall_score\n",
    "from sklearn.metrics import f1_score\n",
    "from sklearn.metrics import cohen_kappa_score\n",
    "from sklearn.metrics import roc_auc_score\n",
    "\n",
    "\n",
    "def plot_history(history):\n",
    "  # This function will plot the model fit process\n",
    "  print(history.history.keys())\n",
    "  # summarize history for accuracy\n",
    "  plt.plot(history.history['acc'])\n",
    "  plt.plot(history.history['val_acc'])\n",
    "  plt.title('model accuracy')\n",
    "  plt.ylabel('acc')\n",
    "  plt.xlabel('epoch')\n",
    "  plt.legend(['train', 'test'], loc='upper left')\n",
    "  plt.show()\n",
    "  # summarize history for loss\n",
    "  plt.plot(history.history['loss'])\n",
    "  plt.plot(history.history['val_loss'])\n",
    "  plt.title('model loss')\n",
    "  plt.ylabel('loss')\n",
    "  plt.xlabel('epoch')\n",
    "  plt.legend(['train', 'test'], loc='upper left')\n",
    "  plt.show()\n",
    "\n",
    "\n",
    "def evaluate_on_test(X_test, y_test, training_model):\n",
    "  #This function will evaluate the fit model on test data\n",
    "  g_preds=training_model.predict_classes(X_test)\n",
    "  gaccuracy = accuracy_score(y_test[:,1], g_preds)\n",
    "  print('Accuracy: %f' % gaccuracy)\n",
    "  # precision tp / (tp + fp)\n",
    "  gprecision = precision_score(y_test[:,1], g_preds)\n",
    "  print('Precision: %f' % gprecision)\n",
    "  # recall: tp / (tp + fn)\n",
    "  grecall = recall_score(y_test[:,1], g_preds)\n",
    "  print('Recall: %f' % grecall)\n",
    "  # f1: 2 tp / (2 tp + fp + fn)\n",
    "  gf1 = f1_score(y_test[:,1], g_preds)\n",
    "  print('F1 score: %f' % gf1)\n"
   ]
  },
  {
   "cell_type": "markdown",
   "metadata": {
    "id": "_ORGIGQSI3Ei"
   },
   "source": [
    "# The following example shows a model designed using Simple RNN. Repeat the same using GRU and LSTM."
   ]
  },
  {
   "cell_type": "code",
   "execution_count": 22,
   "metadata": {
    "id": "ytK1F5UMI6EC"
   },
   "outputs": [],
   "source": [
    "from tensorflow.keras.layers import GRU, Embedding, SimpleRNN, Activation\n",
    "import tensorflow as tf"
   ]
  },
  {
   "cell_type": "code",
   "execution_count": 23,
   "metadata": {
    "id": "p8fOqyJPJDc5"
   },
   "outputs": [],
   "source": [
    "#This is a simple RNN model\n",
    "def simple_RNN_model(neurons=40, op=10):\n",
    "    model = Sequential()\n",
    "    model.add(SimpleRNN(neurons, return_sequences = True, input_shape = (1,op)))\n",
    "    model.add(SimpleRNN(2*neurons))\n",
    "    model.add(Dense(2, activation='softmax'))\n",
    "    model.compile(\n",
    "      optimizer=tf.optimizers.Adam(learning_rate=0.0003),\n",
    "      loss='binary_crossentropy',\n",
    "      metrics=['acc'])\n",
    "    return model"
   ]
  },
  {
   "cell_type": "code",
   "execution_count": 24,
   "metadata": {
    "colab": {
     "base_uri": "https://localhost:8080/"
    },
    "id": "1cuwPUcLJvh6",
    "outputId": "01a9f7d5-d7ea-4532-af6e-ae58b22fd9e5"
   },
   "outputs": [
    {
     "name": "stdout",
     "output_type": "stream",
     "text": [
      "Model: \"sequential\"\n",
      "_________________________________________________________________\n",
      "Layer (type)                 Output Shape              Param #   \n",
      "=================================================================\n",
      "simple_rnn (SimpleRNN)       (None, 1, 40)             2040      \n",
      "_________________________________________________________________\n",
      "simple_rnn_1 (SimpleRNN)     (None, 80)                9680      \n",
      "_________________________________________________________________\n",
      "dense (Dense)                (None, 2)                 162       \n",
      "=================================================================\n",
      "Total params: 11,882\n",
      "Trainable params: 11,882\n",
      "Non-trainable params: 0\n",
      "_________________________________________________________________\n"
     ]
    }
   ],
   "source": [
    "#Visualize the Model\n",
    "tf.keras.backend.clear_session()\n",
    "RNN_model = simple_RNN_model(neurons=40, op=10)\n",
    "RNN_model.summary()"
   ]
  },
  {
   "cell_type": "code",
   "execution_count": 25,
   "metadata": {
    "colab": {
     "base_uri": "https://localhost:8080/"
    },
    "id": "IhdK1Xd6JJCw",
    "outputId": "be075a32-fc85-46d6-cb16-d72be8b6a0b6"
   },
   "outputs": [
    {
     "name": "stdout",
     "output_type": "stream",
     "text": [
      "Epoch 1/20\n",
      "52/52 [==============================] - 3s 14ms/step - loss: 0.5256 - acc: 0.8116 - val_loss: 0.2479 - val_acc: 0.9343\n",
      "Epoch 2/20\n",
      "52/52 [==============================] - 0s 5ms/step - loss: 0.2321 - acc: 0.9346 - val_loss: 0.2134 - val_acc: 0.9343\n",
      "Epoch 3/20\n",
      "52/52 [==============================] - 0s 4ms/step - loss: 0.2106 - acc: 0.9347 - val_loss: 0.2075 - val_acc: 0.9343\n",
      "Epoch 4/20\n",
      "52/52 [==============================] - 0s 5ms/step - loss: 0.2063 - acc: 0.9341 - val_loss: 0.2050 - val_acc: 0.9343\n",
      "Epoch 5/20\n",
      "52/52 [==============================] - 0s 5ms/step - loss: 0.2045 - acc: 0.9347 - val_loss: 0.2034 - val_acc: 0.9343\n",
      "Epoch 6/20\n",
      "52/52 [==============================] - 0s 5ms/step - loss: 0.2039 - acc: 0.9336 - val_loss: 0.2019 - val_acc: 0.9343\n",
      "Epoch 7/20\n",
      "52/52 [==============================] - 0s 5ms/step - loss: 0.2000 - acc: 0.9383 - val_loss: 0.2004 - val_acc: 0.9452\n",
      "Epoch 8/20\n",
      "52/52 [==============================] - 0s 5ms/step - loss: 0.1994 - acc: 0.9448 - val_loss: 0.1989 - val_acc: 0.9452\n",
      "Epoch 9/20\n",
      "52/52 [==============================] - 0s 5ms/step - loss: 0.2024 - acc: 0.9427 - val_loss: 0.1974 - val_acc: 0.9452\n",
      "Epoch 10/20\n",
      "52/52 [==============================] - 0s 5ms/step - loss: 0.1986 - acc: 0.9443 - val_loss: 0.1961 - val_acc: 0.9452\n",
      "Epoch 11/20\n",
      "52/52 [==============================] - 0s 5ms/step - loss: 0.1954 - acc: 0.9451 - val_loss: 0.1947 - val_acc: 0.9452\n",
      "Epoch 12/20\n",
      "52/52 [==============================] - 0s 5ms/step - loss: 0.1915 - acc: 0.9457 - val_loss: 0.1935 - val_acc: 0.9474\n",
      "Epoch 13/20\n",
      "52/52 [==============================] - 0s 5ms/step - loss: 0.1940 - acc: 0.9470 - val_loss: 0.1925 - val_acc: 0.9509\n",
      "Epoch 14/20\n",
      "52/52 [==============================] - 0s 5ms/step - loss: 0.1860 - acc: 0.9524 - val_loss: 0.1917 - val_acc: 0.9509\n",
      "Epoch 15/20\n",
      "52/52 [==============================] - 0s 5ms/step - loss: 0.1928 - acc: 0.9491 - val_loss: 0.1908 - val_acc: 0.9509\n",
      "Epoch 16/20\n",
      "52/52 [==============================] - 0s 5ms/step - loss: 0.1911 - acc: 0.9499 - val_loss: 0.1901 - val_acc: 0.9509\n",
      "Epoch 17/20\n",
      "52/52 [==============================] - 0s 5ms/step - loss: 0.1949 - acc: 0.9490 - val_loss: 0.1895 - val_acc: 0.9509\n",
      "Epoch 18/20\n",
      "52/52 [==============================] - 0s 5ms/step - loss: 0.1928 - acc: 0.9490 - val_loss: 0.1890 - val_acc: 0.9509\n",
      "Epoch 19/20\n",
      "52/52 [==============================] - 0s 5ms/step - loss: 0.1873 - acc: 0.9507 - val_loss: 0.1884 - val_acc: 0.9509\n",
      "Epoch 20/20\n",
      "52/52 [==============================] - 0s 5ms/step - loss: 0.1896 - acc: 0.9495 - val_loss: 0.1880 - val_acc: 0.9509\n"
     ]
    }
   ],
   "source": [
    "#Fit the model using 80/20 validation split at runtime\n",
    "r_history = RNN_model.fit(X_train, y_train,\n",
    "                    epochs=20,\n",
    "                    batch_size=1000,#atleast 1000 records per epoch\n",
    "                    validation_split=0.2)"
   ]
  },
  {
   "cell_type": "code",
   "execution_count": 26,
   "metadata": {
    "colab": {
     "base_uri": "https://localhost:8080/",
     "height": 590
    },
    "id": "zVJTgqvHJJFB",
    "outputId": "522ed945-e4a8-4857-e28c-6a2446d27701"
   },
   "outputs": [
    {
     "name": "stdout",
     "output_type": "stream",
     "text": [
      "dict_keys(['loss', 'acc', 'val_loss', 'val_acc'])\n"
     ]
    },
    {
     "data": {
      "image/png": "[encoded data removed]",
      "text/plain": [
       "<Figure size 432x288 with 1 Axes>"
      ]
     },
     "metadata": {
      "needs_background": "light",
      "tags": []
     },
     "output_type": "display_data"
    },
    {
     "data": {
      "image/png": "[encoded data removed]",
      "text/plain": [
       "<Figure size 432x288 with 1 Axes>"
      ]
     },
     "metadata": {
      "needs_background": "light",
      "tags": []
     },
     "output_type": "display_data"
    }
   ],
   "source": [
    "plot_history(r_history)"
   ]
  },
  {
   "cell_type": "code",
   "execution_count": 27,
   "metadata": {
    "colab": {
     "base_uri": "https://localhost:8080/"
    },
    "id": "ZRTCPXThJ38p",
    "outputId": "7527c4bc-07cd-4856-c551-9452943845cf"
   },
   "outputs": [
    {
     "name": "stderr",
     "output_type": "stream",
     "text": [
      "/usr/local/lib/python3.6/dist-packages/tensorflow/python/keras/engine/sequential.py:450: UserWarning: `model.predict_classes()` is deprecated and will be removed after 2021-01-01. Please use instead:* `np.argmax(model.predict(x), axis=-1)`,   if your model does multi-class classification   (e.g. if it uses a `softmax` last-layer activation).* `(model.predict(x) > 0.5).astype(\"int32\")`,   if your model does binary classification   (e.g. if it uses a `sigmoid` last-layer activation).\n",
      "  warnings.warn('`model.predict_classes()` is deprecated and '\n"
     ]
    },
    {
     "name": "stdout",
     "output_type": "stream",
     "text": [
      "Accuracy: 0.952862\n",
      "Precision: 1.000000\n",
      "Recall: 0.244172\n",
      "F1 score: 0.392506\n"
     ]
    }
   ],
   "source": [
    "evaluate_on_test(X_test, y_test, RNN_model)"
   ]
  },
  {
   "cell_type": "markdown",
   "metadata": {
    "id": "-IULjM4vLIUx"
   },
   "source": [
    "# Task 2: Run GRU and LSTM Models on the 10-sequence data. \n",
    "Which is the best model? What is the metric of most importance?\n"
   ]
  },
  {
   "cell_type": "code",
   "execution_count": 28,
   "metadata": {
    "id": "s-zDi5ykLq2M"
   },
   "outputs": [],
   "source": [
    "###############START CODE HERE##########################################################################\n",
    "#Define a GRU model function. Use the simple_RNN_model function and replace the RNN layers with GRU.\n",
    "#Notice the change in number of parameters\n",
    "def GRU_model(neurons=40, op=10):\n",
    "    model = Sequential()\n",
    "    model.add(GRU(neurons, return_sequences = True, input_shape = (1,op)))\n",
    "    model.add(GRU(2*neurons))\n",
    "    model.add(Dense(2, activation='softmax'))\n",
    "    model.compile(\n",
    "      optimizer=tf.optimizers.Adam(learning_rate=0.0003),\n",
    "      loss='binary_crossentropy',\n",
    "      metrics=['acc'])\n",
    "    return model"
   ]
  },
  {
   "cell_type": "code",
   "execution_count": 29,
   "metadata": {
    "colab": {
     "base_uri": "https://localhost:8080/"
    },
    "id": "DEy3TOkMLy8T",
    "outputId": "93bc34f8-c91f-4828-8752-a5f8f2e6ffa6"
   },
   "outputs": [
    {
     "name": "stdout",
     "output_type": "stream",
     "text": [
      "Model: \"sequential\"\n",
      "_________________________________________________________________\n",
      "Layer (type)                 Output Shape              Param #   \n",
      "=================================================================\n",
      "gru (GRU)                    (None, 1, 40)             6240      \n",
      "_________________________________________________________________\n",
      "gru_1 (GRU)                  (None, 80)                29280     \n",
      "_________________________________________________________________\n",
      "dense (Dense)                (None, 2)                 162       \n",
      "=================================================================\n",
      "Total params: 35,682\n",
      "Trainable params: 35,682\n",
      "Non-trainable params: 0\n",
      "_________________________________________________________________\n"
     ]
    }
   ],
   "source": [
    "#Visualize the Model (Notice the increase in parameters)\n",
    "tf.keras.backend.clear_session()\n",
    "G_model = GRU_model()#neurons=40, op=10)\n",
    "G_model.summary()"
   ]
  },
  {
   "cell_type": "code",
   "execution_count": 30,
   "metadata": {
    "colab": {
     "base_uri": "https://localhost:8080/"
    },
    "id": "pcYsLzXWMIiB",
    "outputId": "26034f63-0ad1-4026-cf7a-583d978e5e0c"
   },
   "outputs": [
    {
     "name": "stdout",
     "output_type": "stream",
     "text": [
      "Epoch 1/20\n",
      "52/52 [==============================] - 5s 15ms/step - loss: 0.5998 - acc: 0.9345 - val_loss: 0.3987 - val_acc: 0.9343\n",
      "Epoch 2/20\n",
      "52/52 [==============================] - 0s 5ms/step - loss: 0.3442 - acc: 0.9341 - val_loss: 0.2421 - val_acc: 0.9343\n",
      "Epoch 3/20\n",
      "52/52 [==============================] - 0s 5ms/step - loss: 0.2308 - acc: 0.9349 - val_loss: 0.2171 - val_acc: 0.9343\n",
      "Epoch 4/20\n",
      "52/52 [==============================] - 0s 5ms/step - loss: 0.2160 - acc: 0.9338 - val_loss: 0.2109 - val_acc: 0.9343\n",
      "Epoch 5/20\n",
      "52/52 [==============================] - 0s 5ms/step - loss: 0.2075 - acc: 0.9348 - val_loss: 0.2084 - val_acc: 0.9343\n",
      "Epoch 6/20\n",
      "52/52 [==============================] - 0s 5ms/step - loss: 0.2094 - acc: 0.9330 - val_loss: 0.2068 - val_acc: 0.9343\n",
      "Epoch 7/20\n",
      "52/52 [==============================] - 0s 5ms/step - loss: 0.2092 - acc: 0.9329 - val_loss: 0.2055 - val_acc: 0.9343\n",
      "Epoch 8/20\n",
      "52/52 [==============================] - 0s 5ms/step - loss: 0.2042 - acc: 0.9342 - val_loss: 0.2043 - val_acc: 0.9343\n",
      "Epoch 9/20\n",
      "52/52 [==============================] - 0s 5ms/step - loss: 0.2058 - acc: 0.9327 - val_loss: 0.2031 - val_acc: 0.9343\n",
      "Epoch 10/20\n",
      "52/52 [==============================] - 0s 5ms/step - loss: 0.2029 - acc: 0.9337 - val_loss: 0.2019 - val_acc: 0.9343\n",
      "Epoch 11/20\n",
      "52/52 [==============================] - 0s 5ms/step - loss: 0.2034 - acc: 0.9337 - val_loss: 0.2008 - val_acc: 0.9343\n",
      "Epoch 12/20\n",
      "52/52 [==============================] - 0s 5ms/step - loss: 0.2023 - acc: 0.9331 - val_loss: 0.1995 - val_acc: 0.9343\n",
      "Epoch 13/20\n",
      "52/52 [==============================] - 0s 5ms/step - loss: 0.1986 - acc: 0.9338 - val_loss: 0.1984 - val_acc: 0.9452\n",
      "Epoch 14/20\n",
      "52/52 [==============================] - 0s 5ms/step - loss: 0.1962 - acc: 0.9458 - val_loss: 0.1972 - val_acc: 0.9452\n",
      "Epoch 15/20\n",
      "52/52 [==============================] - 0s 5ms/step - loss: 0.1979 - acc: 0.9448 - val_loss: 0.1961 - val_acc: 0.9452\n",
      "Epoch 16/20\n",
      "52/52 [==============================] - 0s 5ms/step - loss: 0.1989 - acc: 0.9436 - val_loss: 0.1951 - val_acc: 0.9452\n",
      "Epoch 17/20\n",
      "52/52 [==============================] - 0s 5ms/step - loss: 0.1932 - acc: 0.9450 - val_loss: 0.1940 - val_acc: 0.9474\n",
      "Epoch 18/20\n",
      "52/52 [==============================] - 0s 5ms/step - loss: 0.1937 - acc: 0.9480 - val_loss: 0.1931 - val_acc: 0.9509\n",
      "Epoch 19/20\n",
      "52/52 [==============================] - 0s 5ms/step - loss: 0.1943 - acc: 0.9496 - val_loss: 0.1921 - val_acc: 0.9509\n",
      "Epoch 20/20\n",
      "52/52 [==============================] - 0s 5ms/step - loss: 0.1926 - acc: 0.9502 - val_loss: 0.1913 - val_acc: 0.9509\n"
     ]
    }
   ],
   "source": [
    "#Train the G_model (20 epochs, 1000 samples per batch, validation split=0.2)\n",
    "g_history = G_model.fit(X_train, y_train,\n",
    "                    epochs=20,\n",
    "                    batch_size=1000,#atleast 1000 records per epoch\n",
    "                    validation_split=0.2)"
   ]
  },
  {
   "cell_type": "code",
   "execution_count": 31,
   "metadata": {
    "colab": {
     "base_uri": "https://localhost:8080/",
     "height": 590
    },
    "id": "0GdxIFEcMS94",
    "outputId": "dcd45e57-7717-46f6-b7a5-70482795e393"
   },
   "outputs": [
    {
     "name": "stdout",
     "output_type": "stream",
     "text": [
      "dict_keys(['loss', 'acc', 'val_loss', 'val_acc'])\n"
     ]
    },
    {
     "data": {
      "image/png": "[encoded data removed]",
      "text/plain": [
       "<Figure size 432x288 with 1 Axes>"
      ]
     },
     "metadata": {
      "needs_background": "light",
      "tags": []
     },
     "output_type": "display_data"
    },
    {
     "data": {
      "image/png": "[encoded data removed]",
      "text/plain": [
       "<Figure size 432x288 with 1 Axes>"
      ]
     },
     "metadata": {
      "needs_background": "light",
      "tags": []
     },
     "output_type": "display_data"
    }
   ],
   "source": [
    "#Use plot_history function to plot the model curves for loss and accuracy\n",
    "plot_history(g_history)"
   ]
  },
  {
   "cell_type": "code",
   "execution_count": 32,
   "metadata": {
    "colab": {
     "base_uri": "https://localhost:8080/"
    },
    "id": "f4vFqrzPMWmY",
    "outputId": "5bac2f41-b299-4a8a-ab33-37573bfe4b25"
   },
   "outputs": [
    {
     "name": "stderr",
     "output_type": "stream",
     "text": [
      "/usr/local/lib/python3.6/dist-packages/tensorflow/python/keras/engine/sequential.py:450: UserWarning: `model.predict_classes()` is deprecated and will be removed after 2021-01-01. Please use instead:* `np.argmax(model.predict(x), axis=-1)`,   if your model does multi-class classification   (e.g. if it uses a `softmax` last-layer activation).* `(model.predict(x) > 0.5).astype(\"int32\")`,   if your model does binary classification   (e.g. if it uses a `sigmoid` last-layer activation).\n",
      "  warnings.warn('`model.predict_classes()` is deprecated and '\n"
     ]
    },
    {
     "name": "stdout",
     "output_type": "stream",
     "text": [
      "Accuracy: 0.952862\n",
      "Precision: 1.000000\n",
      "Recall: 0.244172\n",
      "F1 score: 0.392506\n"
     ]
    }
   ],
   "source": [
    "# Use evaluate_on_test function to note accuracy, precision, recall and F1 score on test data\n",
    "evaluate_on_test(X_test, y_test, G_model)"
   ]
  },
  {
   "cell_type": "code",
   "execution_count": 33,
   "metadata": {
    "id": "62VFEslyqEWX"
   },
   "outputs": [],
   "source": [
    "#Define an LSTM model function. Use the LSTM layer as shown below.\n",
    "#Notice the change in number of parameters\n",
    "def LSTM_model(neurons=40, op=10):\n",
    "    model = Sequential()\n",
    "    model.add(Bidirectional(LSTM(neurons, return_sequences=True), input_shape=(1, op)))\n",
    "    model.add(Bidirectional(LSTM(2*neurons)))\n",
    "    model.add(Dense(2, activation='softmax'))\n",
    "    model.compile(optimizer=tf.optimizers.Adam(learning_rate=0.0003), loss='binary_crossentropy', metrics=['acc'])\n",
    "    \n",
    "    return model"
   ]
  },
  {
   "cell_type": "code",
   "execution_count": 34,
   "metadata": {
    "colab": {
     "base_uri": "https://localhost:8080/"
    },
    "id": "1HZqWlbtqegR",
    "outputId": "2cdfdf4a-b2f1-4d1f-a3f6-0bbf2e3948ff"
   },
   "outputs": [
    {
     "name": "stdout",
     "output_type": "stream",
     "text": [
      "Model: \"sequential\"\n",
      "_________________________________________________________________\n",
      "Layer (type)                 Output Shape              Param #   \n",
      "=================================================================\n",
      "bidirectional (Bidirectional (None, 1, 80)             16320     \n",
      "_________________________________________________________________\n",
      "bidirectional_1 (Bidirection (None, 160)               103040    \n",
      "_________________________________________________________________\n",
      "dense (Dense)                (None, 2)                 322       \n",
      "=================================================================\n",
      "Total params: 119,682\n",
      "Trainable params: 119,682\n",
      "Non-trainable params: 0\n",
      "_________________________________________________________________\n"
     ]
    }
   ],
   "source": [
    "tf.keras.backend.clear_session()\n",
    "training_model = LSTM_model(neurons=40, op=10)\n",
    "training_model.summary()"
   ]
  },
  {
   "cell_type": "code",
   "execution_count": 35,
   "metadata": {
    "colab": {
     "base_uri": "https://localhost:8080/"
    },
    "id": "duvgEdL-rur0",
    "outputId": "982cb405-dbe1-4f02-d242-6a02b6e435e2"
   },
   "outputs": [
    {
     "name": "stdout",
     "output_type": "stream",
     "text": [
      "Epoch 1/20\n",
      "52/52 [==============================] - 6s 28ms/step - loss: 0.6456 - acc: 0.8829 - val_loss: 0.4695 - val_acc: 0.9343\n",
      "Epoch 2/20\n",
      "52/52 [==============================] - 0s 8ms/step - loss: 0.3993 - acc: 0.9338 - val_loss: 0.2568 - val_acc: 0.9343\n",
      "Epoch 3/20\n",
      "52/52 [==============================] - 0s 8ms/step - loss: 0.2446 - acc: 0.9346 - val_loss: 0.2205 - val_acc: 0.9343\n",
      "Epoch 4/20\n",
      "52/52 [==============================] - 0s 7ms/step - loss: 0.2190 - acc: 0.9341 - val_loss: 0.2109 - val_acc: 0.9343\n",
      "Epoch 5/20\n",
      "52/52 [==============================] - 0s 7ms/step - loss: 0.2119 - acc: 0.9332 - val_loss: 0.2078 - val_acc: 0.9343\n",
      "Epoch 6/20\n",
      "52/52 [==============================] - 0s 7ms/step - loss: 0.2104 - acc: 0.9333 - val_loss: 0.2061 - val_acc: 0.9343\n",
      "Epoch 7/20\n",
      "52/52 [==============================] - 1s 12ms/step - loss: 0.2038 - acc: 0.9342 - val_loss: 0.2049 - val_acc: 0.9343\n",
      "Epoch 8/20\n",
      "52/52 [==============================] - 0s 8ms/step - loss: 0.2053 - acc: 0.9336 - val_loss: 0.2039 - val_acc: 0.9343\n",
      "Epoch 9/20\n",
      "52/52 [==============================] - 0s 8ms/step - loss: 0.2020 - acc: 0.9348 - val_loss: 0.2030 - val_acc: 0.9343\n",
      "Epoch 10/20\n",
      "52/52 [==============================] - 0s 8ms/step - loss: 0.2039 - acc: 0.9332 - val_loss: 0.2021 - val_acc: 0.9343\n",
      "Epoch 11/20\n",
      "52/52 [==============================] - 0s 8ms/step - loss: 0.2005 - acc: 0.9341 - val_loss: 0.2013 - val_acc: 0.9343\n",
      "Epoch 12/20\n",
      "52/52 [==============================] - 0s 8ms/step - loss: 0.1986 - acc: 0.9341 - val_loss: 0.2004 - val_acc: 0.9343\n",
      "Epoch 13/20\n",
      "52/52 [==============================] - 0s 7ms/step - loss: 0.2005 - acc: 0.9338 - val_loss: 0.1996 - val_acc: 0.9343\n",
      "Epoch 14/20\n",
      "52/52 [==============================] - 0s 8ms/step - loss: 0.2025 - acc: 0.9326 - val_loss: 0.1988 - val_acc: 0.9343\n",
      "Epoch 15/20\n",
      "52/52 [==============================] - 0s 8ms/step - loss: 0.1975 - acc: 0.9371 - val_loss: 0.1979 - val_acc: 0.9452\n",
      "Epoch 16/20\n",
      "52/52 [==============================] - 0s 8ms/step - loss: 0.2010 - acc: 0.9432 - val_loss: 0.1971 - val_acc: 0.9452\n",
      "Epoch 17/20\n",
      "52/52 [==============================] - 0s 8ms/step - loss: 0.1962 - acc: 0.9445 - val_loss: 0.1962 - val_acc: 0.9452\n",
      "Epoch 18/20\n",
      "52/52 [==============================] - 0s 7ms/step - loss: 0.1962 - acc: 0.9445 - val_loss: 0.1955 - val_acc: 0.9452\n",
      "Epoch 19/20\n",
      "52/52 [==============================] - 0s 8ms/step - loss: 0.1915 - acc: 0.9461 - val_loss: 0.1947 - val_acc: 0.9452\n",
      "Epoch 20/20\n",
      "52/52 [==============================] - 0s 8ms/step - loss: 0.1954 - acc: 0.9449 - val_loss: 0.1940 - val_acc: 0.9500\n"
     ]
    }
   ],
   "source": [
    "#Train the training_model (20 epochs, 1000 samples per batch, validation split=0.2)\n",
    "lstm_history = training_model.fit(X_train, y_train,\n",
    "                    epochs=20,\n",
    "                    batch_size=1000,#atleast 1000 records per epoch\n",
    "                    validation_split=0.2)"
   ]
  },
  {
   "cell_type": "code",
   "execution_count": 36,
   "metadata": {
    "colab": {
     "base_uri": "https://localhost:8080/",
     "height": 590
    },
    "id": "5MF7_nuj2ZQO",
    "outputId": "1ce62f07-c7ea-494e-c1c4-f33e2cd58dc5"
   },
   "outputs": [
    {
     "name": "stdout",
     "output_type": "stream",
     "text": [
      "dict_keys(['loss', 'acc', 'val_loss', 'val_acc'])\n"
     ]
    },
    {
     "data": {
      "image/png": "[encoded data removed]",
      "text/plain": [
       "<Figure size 432x288 with 1 Axes>"
      ]
     },
     "metadata": {
      "needs_background": "light",
      "tags": []
     },
     "output_type": "display_data"
    },
    {
     "data": {
      "image/png": "[encoded data removed]",
      "text/plain": [
       "<Figure size 432x288 with 1 Axes>"
      ]
     },
     "metadata": {
      "needs_background": "light",
      "tags": []
     },
     "output_type": "display_data"
    }
   ],
   "source": [
    "#Use plot_history function to plot the model curves for loss and accuracy\n",
    "plot_history(lstm_history)"
   ]
  },
  {
   "cell_type": "code",
   "execution_count": 37,
   "metadata": {
    "colab": {
     "base_uri": "https://localhost:8080/"
    },
    "id": "KAGWtCN-OKrG",
    "outputId": "4ab7aa75-5e93-47a8-d58b-e1bcbfe88182"
   },
   "outputs": [
    {
     "name": "stderr",
     "output_type": "stream",
     "text": [
      "/usr/local/lib/python3.6/dist-packages/tensorflow/python/keras/engine/sequential.py:450: UserWarning: `model.predict_classes()` is deprecated and will be removed after 2021-01-01. Please use instead:* `np.argmax(model.predict(x), axis=-1)`,   if your model does multi-class classification   (e.g. if it uses a `softmax` last-layer activation).* `(model.predict(x) > 0.5).astype(\"int32\")`,   if your model does binary classification   (e.g. if it uses a `sigmoid` last-layer activation).\n",
      "  warnings.warn('`model.predict_classes()` is deprecated and '\n"
     ]
    },
    {
     "name": "stdout",
     "output_type": "stream",
     "text": [
      "Accuracy: 0.951917\n",
      "Precision: 1.000000\n",
      "Recall: 0.229021\n",
      "F1 score: 0.372688\n"
     ]
    }
   ],
   "source": [
    "# Use evaluate_on_test function to note accuracy, precision, recall and F1 score on test data\n",
    "evaluate_on_test(X_test, y_test, training_model)"
   ]
  },
  {
   "cell_type": "markdown",
   "metadata": {
    "id": "4nf9aSqW4ctV"
   },
   "source": [
    "# Task 3: Create sequence data up to size 300. Apply 70/30 split for train-test data.\n",
    "# Next, fit ONLY the best data model (pick ONE between simple RNN /GRU/ LSTM reported in Task 2) on this data.\n"
   ]
  },
  {
   "cell_type": "code",
   "execution_count": 38,
   "metadata": {
    "id": "oSTGbc7BP6gB"
   },
   "outputs": [],
   "source": [
    "#Step 1: Create sequence up to 300\n",
    "long_sequence_300 = sequence[sequence['event'].map(len) <= 300]\n",
    "event_sequence_300 = long_sequence_300['event'].to_list()\n",
    "event_300 = pad_sequences(event_sequence_300)"
   ]
  },
  {
   "cell_type": "code",
   "execution_count": 39,
   "metadata": {
    "colab": {
     "base_uri": "https://localhost:8080/"
    },
    "id": "O7w-kY3Ndas4",
    "outputId": "72f5100d-9531-43d8-c521-9d58b0ccec57"
   },
   "outputs": [
    {
     "name": "stdout",
     "output_type": "stream",
     "text": [
      "(83594, 1, 300) (83594, 2)\n"
     ]
    }
   ],
   "source": [
    "# One Hot Encoding the Purchase label\n",
    "y_300 = np.array(pd.get_dummies(long_sequence_300['purchase'], prefix='Purchase'))\n",
    "X_train_300, X_test_300, y_train_300, y_test_300= prepare_train_test_data(event_300, y_300) # Function call to 'prepare_train_test_data' to create 70/30 split data\n",
    "print(X_train_300.shape, y_train_300.shape)"
   ]
  },
  {
   "cell_type": "markdown",
   "metadata": {
    "id": "0zTNuuNIQGAa"
   },
   "source": [
    "### RNN"
   ]
  },
  {
   "cell_type": "code",
   "execution_count": 44,
   "metadata": {
    "colab": {
     "base_uri": "https://localhost:8080/"
    },
    "id": "VgB3ISRAP6s2",
    "outputId": "673e924a-da4a-4b0a-f622-f5bef6de2e81"
   },
   "outputs": [
    {
     "name": "stdout",
     "output_type": "stream",
     "text": [
      "Model: \"sequential\"\n",
      "_________________________________________________________________\n",
      "Layer (type)                 Output Shape              Param #   \n",
      "=================================================================\n",
      "simple_rnn (SimpleRNN)       (None, 1, 100)            40100     \n",
      "_________________________________________________________________\n",
      "simple_rnn_1 (SimpleRNN)     (None, 200)               60200     \n",
      "_________________________________________________________________\n",
      "dense (Dense)                (None, 2)                 402       \n",
      "=================================================================\n",
      "Total params: 100,702\n",
      "Trainable params: 100,702\n",
      "Non-trainable params: 0\n",
      "_________________________________________________________________\n"
     ]
    }
   ],
   "source": [
    "# Initialize your best model (RNN or GRU or LSTM)\n",
    "# RNN\n",
    "tf.keras.backend.clear_session()\n",
    "RNN_model_long_sequences = simple_RNN_model(neurons=100, op=300) # switching to 300\n",
    "RNN_model_long_sequences.summary()"
   ]
  },
  {
   "cell_type": "code",
   "execution_count": 45,
   "metadata": {
    "colab": {
     "base_uri": "https://localhost:8080/"
    },
    "id": "k8xqdlNaSC7U",
    "outputId": "14a7bea9-1f69-4785-80b4-7b401aa474b4"
   },
   "outputs": [
    {
     "name": "stdout",
     "output_type": "stream",
     "text": [
      "Epoch 1/20\n",
      "67/67 [==============================] - 2s 13ms/step - loss: 0.5212 - acc: 0.7043 - val_loss: 0.2792 - val_acc: 0.9059\n",
      "Epoch 2/20\n",
      "67/67 [==============================] - 0s 5ms/step - loss: 0.2743 - acc: 0.9072 - val_loss: 0.2730 - val_acc: 0.9059\n",
      "Epoch 3/20\n",
      "67/67 [==============================] - 0s 5ms/step - loss: 0.2708 - acc: 0.9066 - val_loss: 0.2704 - val_acc: 0.9059\n",
      "Epoch 4/20\n",
      "67/67 [==============================] - 0s 5ms/step - loss: 0.2705 - acc: 0.9052 - val_loss: 0.2690 - val_acc: 0.9059\n",
      "Epoch 5/20\n",
      "67/67 [==============================] - 0s 5ms/step - loss: 0.2669 - acc: 0.9060 - val_loss: 0.2672 - val_acc: 0.9059\n",
      "Epoch 6/20\n",
      "67/67 [==============================] - 0s 5ms/step - loss: 0.2708 - acc: 0.9083 - val_loss: 0.2660 - val_acc: 0.9140\n",
      "Epoch 7/20\n",
      "67/67 [==============================] - 0s 5ms/step - loss: 0.2624 - acc: 0.9154 - val_loss: 0.2646 - val_acc: 0.9139\n",
      "Epoch 8/20\n",
      "67/67 [==============================] - 0s 5ms/step - loss: 0.2607 - acc: 0.9153 - val_loss: 0.2635 - val_acc: 0.9140\n",
      "Epoch 9/20\n",
      "67/67 [==============================] - 0s 5ms/step - loss: 0.2640 - acc: 0.9140 - val_loss: 0.2626 - val_acc: 0.9158\n",
      "Epoch 10/20\n",
      "67/67 [==============================] - 0s 5ms/step - loss: 0.2578 - acc: 0.9175 - val_loss: 0.2610 - val_acc: 0.9178\n",
      "Epoch 11/20\n",
      "67/67 [==============================] - 0s 5ms/step - loss: 0.2606 - acc: 0.9173 - val_loss: 0.2600 - val_acc: 0.9181\n",
      "Epoch 12/20\n",
      "67/67 [==============================] - 0s 5ms/step - loss: 0.2582 - acc: 0.9188 - val_loss: 0.2593 - val_acc: 0.9181\n",
      "Epoch 13/20\n",
      "67/67 [==============================] - 0s 5ms/step - loss: 0.2601 - acc: 0.9172 - val_loss: 0.2586 - val_acc: 0.9180\n",
      "Epoch 14/20\n",
      "67/67 [==============================] - 0s 5ms/step - loss: 0.2575 - acc: 0.9186 - val_loss: 0.2577 - val_acc: 0.9182\n",
      "Epoch 15/20\n",
      "67/67 [==============================] - 0s 5ms/step - loss: 0.2528 - acc: 0.9198 - val_loss: 0.2565 - val_acc: 0.9182\n",
      "Epoch 16/20\n",
      "67/67 [==============================] - 0s 5ms/step - loss: 0.2552 - acc: 0.9183 - val_loss: 0.2563 - val_acc: 0.9181\n",
      "Epoch 17/20\n",
      "67/67 [==============================] - 0s 5ms/step - loss: 0.2515 - acc: 0.9191 - val_loss: 0.2552 - val_acc: 0.9182\n",
      "Epoch 18/20\n",
      "67/67 [==============================] - 0s 5ms/step - loss: 0.2544 - acc: 0.9181 - val_loss: 0.2552 - val_acc: 0.9181\n",
      "Epoch 19/20\n",
      "67/67 [==============================] - 0s 5ms/step - loss: 0.2552 - acc: 0.9180 - val_loss: 0.2544 - val_acc: 0.9181\n",
      "Epoch 20/20\n",
      "67/67 [==============================] - 0s 5ms/step - loss: 0.2539 - acc: 0.9182 - val_loss: 0.2543 - val_acc: 0.9181\n"
     ]
    }
   ],
   "source": [
    "#Fit your model on Training data (20 epochs, 1000 samples per batch, validation_split=0.2)\n",
    "rnn_long_seq_history = RNN_model_long_sequences.fit(X_train_300, y_train_300,\n",
    "                    epochs=20,\n",
    "                    batch_size=1000, #atleast 1000 records per epoch\n",
    "                    validation_split=0.2)"
   ]
  },
  {
   "cell_type": "code",
   "execution_count": 46,
   "metadata": {
    "colab": {
     "base_uri": "https://localhost:8080/",
     "height": 590
    },
    "id": "o29x00P0I0gq",
    "outputId": "19b96362-236f-459e-bc4f-eca286e51aee"
   },
   "outputs": [
    {
     "name": "stdout",
     "output_type": "stream",
     "text": [
      "dict_keys(['loss', 'acc', 'val_loss', 'val_acc'])\n"
     ]
    },
    {
     "data": {
      "image/png": "[encoded data removed]",
      "text/plain": [
       "<Figure size 432x288 with 1 Axes>"
      ]
     },
     "metadata": {
      "needs_background": "light",
      "tags": []
     },
     "output_type": "display_data"
    },
    {
     "data": {
      "image/png": "[encoded data removed]",
      "text/plain": [
       "<Figure size 432x288 with 1 Axes>"
      ]
     },
     "metadata": {
      "needs_background": "light",
      "tags": []
     },
     "output_type": "display_data"
    }
   ],
   "source": [
    "#Use plot_history function to plot the model curves for loss and accuracy\n",
    "plot_history(rnn_long_seq_history)"
   ]
  },
  {
   "cell_type": "code",
   "execution_count": 47,
   "metadata": {
    "colab": {
     "base_uri": "https://localhost:8080/"
    },
    "id": "AQA-jjzrI8_6",
    "outputId": "f90b5d2f-bc25-4d28-89a8-b1a2719acd13"
   },
   "outputs": [
    {
     "name": "stderr",
     "output_type": "stream",
     "text": [
      "/usr/local/lib/python3.6/dist-packages/tensorflow/python/keras/engine/sequential.py:450: UserWarning: `model.predict_classes()` is deprecated and will be removed after 2021-01-01. Please use instead:* `np.argmax(model.predict(x), axis=-1)`,   if your model does multi-class classification   (e.g. if it uses a `softmax` last-layer activation).* `(model.predict(x) > 0.5).astype(\"int32\")`,   if your model does binary classification   (e.g. if it uses a `sigmoid` last-layer activation).\n",
      "  warnings.warn('`model.predict_classes()` is deprecated and '\n"
     ]
    },
    {
     "name": "stdout",
     "output_type": "stream",
     "text": [
      "Accuracy: 0.918551\n",
      "Precision: 1.000000\n",
      "Recall: 0.121084\n",
      "F1 score: 0.216013\n"
     ]
    }
   ],
   "source": [
    "# Use evaluate_on_test function to note accuracy, precision, recall and F1 score on test data\n",
    "evaluate_on_test(X_test_300, y_test_300, RNN_model_long_sequences)"
   ]
  },
  {
   "cell_type": "markdown",
   "metadata": {
    "id": "dt_pVf5QQBld"
   },
   "source": [
    "### GRU"
   ]
  },
  {
   "cell_type": "code",
   "execution_count": 48,
   "metadata": {
    "colab": {
     "base_uri": "https://localhost:8080/"
    },
    "id": "QJklli32Pm_7",
    "outputId": "aff41965-9d3e-4057-f933-2e88ae8861d3"
   },
   "outputs": [
    {
     "name": "stdout",
     "output_type": "stream",
     "text": [
      "Model: \"sequential\"\n",
      "_________________________________________________________________\n",
      "Layer (type)                 Output Shape              Param #   \n",
      "=================================================================\n",
      "gru (GRU)                    (None, 1, 100)            120600    \n",
      "_________________________________________________________________\n",
      "gru_1 (GRU)                  (None, 200)               181200    \n",
      "_________________________________________________________________\n",
      "dense (Dense)                (None, 2)                 402       \n",
      "=================================================================\n",
      "Total params: 302,202\n",
      "Trainable params: 302,202\n",
      "Non-trainable params: 0\n",
      "_________________________________________________________________\n"
     ]
    }
   ],
   "source": [
    "tf.keras.backend.clear_session()\n",
    "G_model_long_seq = GRU_model(neurons=100, op=300)\n",
    "G_model_long_seq.summary()"
   ]
  },
  {
   "cell_type": "code",
   "execution_count": 49,
   "metadata": {
    "colab": {
     "base_uri": "https://localhost:8080/"
    },
    "id": "2NyV5AECPnH7",
    "outputId": "72f0422f-f13d-4195-c485-9bfe6702c907"
   },
   "outputs": [
    {
     "name": "stdout",
     "output_type": "stream",
     "text": [
      "Epoch 1/20\n",
      "67/67 [==============================] - 3s 13ms/step - loss: 0.5354 - acc: 0.9025 - val_loss: 0.3015 - val_acc: 0.9059\n",
      "Epoch 2/20\n",
      "67/67 [==============================] - 0s 5ms/step - loss: 0.2915 - acc: 0.9053 - val_loss: 0.2761 - val_acc: 0.9059\n",
      "Epoch 3/20\n",
      "67/67 [==============================] - 0s 5ms/step - loss: 0.2750 - acc: 0.9051 - val_loss: 0.2730 - val_acc: 0.9059\n",
      "Epoch 4/20\n",
      "67/67 [==============================] - 0s 5ms/step - loss: 0.2738 - acc: 0.9043 - val_loss: 0.2703 - val_acc: 0.9059\n",
      "Epoch 5/20\n",
      "67/67 [==============================] - 0s 5ms/step - loss: 0.2733 - acc: 0.9043 - val_loss: 0.2694 - val_acc: 0.9058\n",
      "Epoch 6/20\n",
      "67/67 [==============================] - 0s 5ms/step - loss: 0.2651 - acc: 0.9066 - val_loss: 0.2671 - val_acc: 0.9059\n",
      "Epoch 7/20\n",
      "67/67 [==============================] - 0s 5ms/step - loss: 0.2676 - acc: 0.9044 - val_loss: 0.2664 - val_acc: 0.9059\n",
      "Epoch 8/20\n",
      "67/67 [==============================] - 0s 5ms/step - loss: 0.2663 - acc: 0.9056 - val_loss: 0.2644 - val_acc: 0.9059\n",
      "Epoch 9/20\n",
      "67/67 [==============================] - 0s 5ms/step - loss: 0.2619 - acc: 0.9113 - val_loss: 0.2633 - val_acc: 0.9140\n",
      "Epoch 10/20\n",
      "67/67 [==============================] - 0s 5ms/step - loss: 0.2591 - acc: 0.9156 - val_loss: 0.2618 - val_acc: 0.9139\n",
      "Epoch 11/20\n",
      "67/67 [==============================] - 0s 5ms/step - loss: 0.2624 - acc: 0.9126 - val_loss: 0.2608 - val_acc: 0.9157\n",
      "Epoch 12/20\n",
      "67/67 [==============================] - 0s 5ms/step - loss: 0.2570 - acc: 0.9170 - val_loss: 0.2588 - val_acc: 0.9178\n",
      "Epoch 13/20\n",
      "67/67 [==============================] - 0s 5ms/step - loss: 0.2579 - acc: 0.9180 - val_loss: 0.2579 - val_acc: 0.9181\n",
      "Epoch 14/20\n",
      "67/67 [==============================] - 0s 5ms/step - loss: 0.2553 - acc: 0.9187 - val_loss: 0.2565 - val_acc: 0.9180\n",
      "Epoch 15/20\n",
      "67/67 [==============================] - 0s 5ms/step - loss: 0.2499 - acc: 0.9209 - val_loss: 0.2557 - val_acc: 0.9181\n",
      "Epoch 16/20\n",
      "67/67 [==============================] - 0s 5ms/step - loss: 0.2518 - acc: 0.9194 - val_loss: 0.2548 - val_acc: 0.9179\n",
      "Epoch 17/20\n",
      "67/67 [==============================] - 0s 5ms/step - loss: 0.2489 - acc: 0.9200 - val_loss: 0.2543 - val_acc: 0.9181\n",
      "Epoch 18/20\n",
      "67/67 [==============================] - 0s 5ms/step - loss: 0.2509 - acc: 0.9196 - val_loss: 0.2543 - val_acc: 0.9179\n",
      "Epoch 19/20\n",
      "67/67 [==============================] - 0s 5ms/step - loss: 0.2511 - acc: 0.9190 - val_loss: 0.2532 - val_acc: 0.9169\n",
      "Epoch 20/20\n",
      "67/67 [==============================] - 0s 5ms/step - loss: 0.2490 - acc: 0.9198 - val_loss: 0.2526 - val_acc: 0.9181\n"
     ]
    }
   ],
   "source": [
    "#Fit your model on Training data (20 epochs, 1000 samples per batch, validation_split=0.2)\n",
    "gru_long_seq_history = G_model_long_seq.fit(X_train_300, y_train_300,\n",
    "                    epochs=20,\n",
    "                    batch_size=1000, #atleast 1000 records per epoch\n",
    "                    validation_split=0.2)"
   ]
  },
  {
   "cell_type": "code",
   "execution_count": 50,
   "metadata": {
    "colab": {
     "base_uri": "https://localhost:8080/",
     "height": 590
    },
    "id": "BYIU4YAhPnQF",
    "outputId": "6aabdcfd-936c-447e-fbc3-ab64d7b7522d"
   },
   "outputs": [
    {
     "name": "stdout",
     "output_type": "stream",
     "text": [
      "dict_keys(['loss', 'acc', 'val_loss', 'val_acc'])\n"
     ]
    },
    {
     "data": {
      "image/png": "[encoded data removed]",
      "text/plain": [
       "<Figure size 432x288 with 1 Axes>"
      ]
     },
     "metadata": {
      "needs_background": "light",
      "tags": []
     },
     "output_type": "display_data"
    },
    {
     "data": {
      "image/png": "[encoded data removed]",
      "text/plain": [
       "<Figure size 432x288 with 1 Axes>"
      ]
     },
     "metadata": {
      "needs_background": "light",
      "tags": []
     },
     "output_type": "display_data"
    }
   ],
   "source": [
    "plot_history(gru_long_seq_history)"
   ]
  },
  {
   "cell_type": "code",
   "execution_count": 51,
   "metadata": {
    "colab": {
     "base_uri": "https://localhost:8080/"
    },
    "id": "jn-S-hxDPnZn",
    "outputId": "7936151d-c4d4-44db-aab1-2eaa311c095e"
   },
   "outputs": [
    {
     "name": "stderr",
     "output_type": "stream",
     "text": [
      "/usr/local/lib/python3.6/dist-packages/tensorflow/python/keras/engine/sequential.py:450: UserWarning: `model.predict_classes()` is deprecated and will be removed after 2021-01-01. Please use instead:* `np.argmax(model.predict(x), axis=-1)`,   if your model does multi-class classification   (e.g. if it uses a `softmax` last-layer activation).* `(model.predict(x) > 0.5).astype(\"int32\")`,   if your model does binary classification   (e.g. if it uses a `sigmoid` last-layer activation).\n",
      "  warnings.warn('`model.predict_classes()` is deprecated and '\n"
     ]
    },
    {
     "name": "stdout",
     "output_type": "stream",
     "text": [
      "Accuracy: 0.918551\n",
      "Precision: 0.976303\n",
      "Recall: 0.124096\n",
      "F1 score: 0.220203\n"
     ]
    }
   ],
   "source": [
    "evaluate_on_test(X_test_300, y_test_300, G_model_long_seq)"
   ]
  },
  {
   "cell_type": "markdown",
   "metadata": {
    "id": "yqWLM-UiQqf2"
   },
   "source": [
    "### LSTM"
   ]
  },
  {
   "cell_type": "code",
   "execution_count": 52,
   "metadata": {
    "colab": {
     "base_uri": "https://localhost:8080/"
    },
    "id": "gOCDl8P9Pnkc",
    "outputId": "f2c45122-6ec1-4af8-9f16-ca388d72fa35"
   },
   "outputs": [
    {
     "name": "stdout",
     "output_type": "stream",
     "text": [
      "Model: \"sequential\"\n",
      "_________________________________________________________________\n",
      "Layer (type)                 Output Shape              Param #   \n",
      "=================================================================\n",
      "bidirectional (Bidirectional (None, 1, 200)            320800    \n",
      "_________________________________________________________________\n",
      "bidirectional_1 (Bidirection (None, 400)               641600    \n",
      "_________________________________________________________________\n",
      "dense (Dense)                (None, 2)                 802       \n",
      "=================================================================\n",
      "Total params: 963,202\n",
      "Trainable params: 963,202\n",
      "Non-trainable params: 0\n",
      "_________________________________________________________________\n"
     ]
    }
   ],
   "source": [
    "tf.keras.backend.clear_session()\n",
    "LSTM_model_long_seq = LSTM_model(neurons=100, op=300)\n",
    "LSTM_model_long_seq.summary()"
   ]
  },
  {
   "cell_type": "code",
   "execution_count": 53,
   "metadata": {
    "colab": {
     "base_uri": "https://localhost:8080/"
    },
    "id": "zLiSTKb8Pnx7",
    "outputId": "fd5f4690-4968-4cc2-b05c-958062654be6"
   },
   "outputs": [
    {
     "name": "stdout",
     "output_type": "stream",
     "text": [
      "Epoch 1/20\n",
      "67/67 [==============================] - 6s 24ms/step - loss: 0.5773 - acc: 0.8459 - val_loss: 0.3067 - val_acc: 0.9059\n",
      "Epoch 2/20\n",
      "67/67 [==============================] - 1s 8ms/step - loss: 0.2966 - acc: 0.9034 - val_loss: 0.2736 - val_acc: 0.9059\n",
      "Epoch 3/20\n",
      "67/67 [==============================] - 1s 8ms/step - loss: 0.2741 - acc: 0.9053 - val_loss: 0.2697 - val_acc: 0.9059\n",
      "Epoch 4/20\n",
      "67/67 [==============================] - 1s 8ms/step - loss: 0.2676 - acc: 0.9070 - val_loss: 0.2683 - val_acc: 0.9059\n",
      "Epoch 5/20\n",
      "67/67 [==============================] - 1s 8ms/step - loss: 0.2689 - acc: 0.9055 - val_loss: 0.2676 - val_acc: 0.9059\n",
      "Epoch 6/20\n",
      "67/67 [==============================] - 1s 8ms/step - loss: 0.2697 - acc: 0.9033 - val_loss: 0.2659 - val_acc: 0.9059\n",
      "Epoch 7/20\n",
      "67/67 [==============================] - 1s 8ms/step - loss: 0.2638 - acc: 0.9062 - val_loss: 0.2647 - val_acc: 0.9059\n",
      "Epoch 8/20\n",
      "67/67 [==============================] - 1s 8ms/step - loss: 0.2611 - acc: 0.9065 - val_loss: 0.2634 - val_acc: 0.9057\n",
      "Epoch 9/20\n",
      "67/67 [==============================] - 1s 8ms/step - loss: 0.2602 - acc: 0.9077 - val_loss: 0.2622 - val_acc: 0.9140\n",
      "Epoch 10/20\n",
      "67/67 [==============================] - 1s 8ms/step - loss: 0.2601 - acc: 0.9140 - val_loss: 0.2610 - val_acc: 0.9140\n",
      "Epoch 11/20\n",
      "67/67 [==============================] - 1s 8ms/step - loss: 0.2544 - acc: 0.9165 - val_loss: 0.2598 - val_acc: 0.9132\n",
      "Epoch 12/20\n",
      "67/67 [==============================] - 1s 8ms/step - loss: 0.2582 - acc: 0.9148 - val_loss: 0.2601 - val_acc: 0.9182\n",
      "Epoch 13/20\n",
      "67/67 [==============================] - 1s 9ms/step - loss: 0.2561 - acc: 0.9180 - val_loss: 0.2581 - val_acc: 0.9182\n",
      "Epoch 14/20\n",
      "67/67 [==============================] - 1s 9ms/step - loss: 0.2540 - acc: 0.9194 - val_loss: 0.2567 - val_acc: 0.9181\n",
      "Epoch 15/20\n",
      "67/67 [==============================] - 1s 8ms/step - loss: 0.2546 - acc: 0.9178 - val_loss: 0.2560 - val_acc: 0.9178\n",
      "Epoch 16/20\n",
      "67/67 [==============================] - 1s 8ms/step - loss: 0.2529 - acc: 0.9187 - val_loss: 0.2547 - val_acc: 0.9176\n",
      "Epoch 17/20\n",
      "67/67 [==============================] - 1s 8ms/step - loss: 0.2539 - acc: 0.9184 - val_loss: 0.2545 - val_acc: 0.9181\n",
      "Epoch 18/20\n",
      "67/67 [==============================] - 1s 8ms/step - loss: 0.2494 - acc: 0.9192 - val_loss: 0.2530 - val_acc: 0.9178\n",
      "Epoch 19/20\n",
      "67/67 [==============================] - 1s 9ms/step - loss: 0.2508 - acc: 0.9177 - val_loss: 0.2558 - val_acc: 0.9182\n",
      "Epoch 20/20\n",
      "67/67 [==============================] - 1s 9ms/step - loss: 0.2510 - acc: 0.9184 - val_loss: 0.2516 - val_acc: 0.9178\n"
     ]
    }
   ],
   "source": [
    "lstm_long_seq_history = LSTM_model_long_seq.fit(X_train_300, y_train_300,\n",
    "                    epochs=20,\n",
    "                    batch_size=1000, #atleast 1000 records per epoch\n",
    "                    validation_split=0.2)"
   ]
  },
  {
   "cell_type": "code",
   "execution_count": 54,
   "metadata": {
    "colab": {
     "base_uri": "https://localhost:8080/",
     "height": 590
    },
    "id": "4gub8svuQtYL",
    "outputId": "a52c47bf-af1f-4cae-c1c0-ad0463a1a869"
   },
   "outputs": [
    {
     "name": "stdout",
     "output_type": "stream",
     "text": [
      "dict_keys(['loss', 'acc', 'val_loss', 'val_acc'])\n"
     ]
    },
    {
     "data": {
      "image/png": "[encoded data removed]",
      "text/plain": [
       "<Figure size 432x288 with 1 Axes>"
      ]
     },
     "metadata": {
      "needs_background": "light",
      "tags": []
     },
     "output_type": "display_data"
    },
    {
     "data": {
      "image/png": "[encoded data removed]",
      "text/plain": [
       "<Figure size 432x288 with 1 Axes>"
      ]
     },
     "metadata": {
      "needs_background": "light",
      "tags": []
     },
     "output_type": "display_data"
    }
   ],
   "source": [
    "plot_history(lstm_long_seq_history)"
   ]
  },
  {
   "cell_type": "code",
   "execution_count": 55,
   "metadata": {
    "colab": {
     "base_uri": "https://localhost:8080/"
    },
    "id": "NEJplK-iQtiy",
    "outputId": "6a021785-d25d-4714-f14d-e622f5543d7a"
   },
   "outputs": [
    {
     "name": "stderr",
     "output_type": "stream",
     "text": [
      "/usr/local/lib/python3.6/dist-packages/tensorflow/python/keras/engine/sequential.py:450: UserWarning: `model.predict_classes()` is deprecated and will be removed after 2021-01-01. Please use instead:* `np.argmax(model.predict(x), axis=-1)`,   if your model does multi-class classification   (e.g. if it uses a `softmax` last-layer activation).* `(model.predict(x) > 0.5).astype(\"int32\")`,   if your model does binary classification   (e.g. if it uses a `sigmoid` last-layer activation).\n",
      "  warnings.warn('`model.predict_classes()` is deprecated and '\n"
     ]
    },
    {
     "name": "stdout",
     "output_type": "stream",
     "text": [
      "Accuracy: 0.918551\n",
      "Precision: 0.946667\n",
      "Recall: 0.128313\n",
      "F1 score: 0.225995\n"
     ]
    }
   ],
   "source": [
    "evaluate_on_test(X_test_300, y_test_300, LSTM_model_long_seq)"
   ]
  },
  {
   "cell_type": "markdown",
   "metadata": {
    "id": "2_5HNGfkP7I6"
   },
   "source": [
    "# Task 4: Finally apply feature-based classification on the session-feature level data (Session_features.pkl).\n",
    "\n",
    "Apply your best model so far on 70/30 split data for session-feature level data and report your outcome!"
   ]
  },
  {
   "cell_type": "code",
   "execution_count": 56,
   "metadata": {
    "colab": {
     "base_uri": "https://localhost:8080/"
    },
    "id": "QQHFIkXGI6zs",
    "outputId": "20f85f81-5603-458b-f66e-72d25ec1e07a"
   },
   "outputs": [
    {
     "name": "stdout",
     "output_type": "stream",
     "text": [
      "(1050000, 1, 34) (1050000, 2)\n"
     ]
    }
   ],
   "source": [
    "#data=feat, contains X and Y(last column)\n",
    "Xf=feat.iloc[:,0:34]\n",
    "Yf=feat.iloc[:,35]\n",
    "#########################START CODE HERE##########################\n",
    "Xf_train, Xf_test, yf_train, yf_test= prepare_train_test_data(Xf.to_numpy(), np.array(pd.get_dummies(Yf))) # Function call to 'prepare_train_test_data' to create 70/30 split data\n",
    "print(Xf_train.shape, yf_train.shape)"
   ]
  },
  {
   "cell_type": "markdown",
   "metadata": {
    "id": "2w9HyACwR1Fz"
   },
   "source": [
    "### RNN"
   ]
  },
  {
   "cell_type": "code",
   "execution_count": 57,
   "metadata": {
    "colab": {
     "base_uri": "https://localhost:8080/"
    },
    "id": "GuxjWsu8QPhi",
    "outputId": "e08d9a03-1a71-401c-f6e1-dcedd6e3d0db"
   },
   "outputs": [
    {
     "name": "stdout",
     "output_type": "stream",
     "text": [
      "Model: \"sequential\"\n",
      "_________________________________________________________________\n",
      "Layer (type)                 Output Shape              Param #   \n",
      "=================================================================\n",
      "simple_rnn (SimpleRNN)       (None, 1, 100)            13500     \n",
      "_________________________________________________________________\n",
      "simple_rnn_1 (SimpleRNN)     (None, 200)               60200     \n",
      "_________________________________________________________________\n",
      "dense (Dense)                (None, 2)                 402       \n",
      "=================================================================\n",
      "Total params: 74,102\n",
      "Trainable params: 74,102\n",
      "Non-trainable params: 0\n",
      "_________________________________________________________________\n"
     ]
    }
   ],
   "source": [
    "tf.keras.backend.clear_session()\n",
    "RNN_model_session = simple_RNN_model(neurons=100, op=34)\n",
    "RNN_model_session.summary()"
   ]
  },
  {
   "cell_type": "code",
   "execution_count": 58,
   "metadata": {
    "colab": {
     "base_uri": "https://localhost:8080/"
    },
    "id": "zwukFzm5yYcj",
    "outputId": "655cd171-0657-4f52-8388-7a3cadbdb29f"
   },
   "outputs": [
    {
     "name": "stdout",
     "output_type": "stream",
     "text": [
      "Epoch 1/20\n",
      "840/840 [==============================] - 4s 3ms/step - loss: 0.1984 - acc: 0.9270 - val_loss: 0.1545 - val_acc: 0.9356\n",
      "Epoch 2/20\n",
      "840/840 [==============================] - 3s 3ms/step - loss: 0.1506 - acc: 0.9374 - val_loss: 0.1433 - val_acc: 0.9390\n",
      "Epoch 3/20\n",
      "840/840 [==============================] - 3s 3ms/step - loss: 0.1389 - acc: 0.9411 - val_loss: 0.1365 - val_acc: 0.9410\n",
      "Epoch 4/20\n",
      "840/840 [==============================] - 3s 3ms/step - loss: 0.1338 - acc: 0.9427 - val_loss: 0.1301 - val_acc: 0.9437\n",
      "Epoch 5/20\n",
      "840/840 [==============================] - 3s 3ms/step - loss: 0.1249 - acc: 0.9472 - val_loss: 0.1082 - val_acc: 0.9582\n",
      "Epoch 6/20\n",
      "840/840 [==============================] - 3s 3ms/step - loss: 0.0968 - acc: 0.9648 - val_loss: 0.0817 - val_acc: 0.9725\n",
      "Epoch 7/20\n",
      "840/840 [==============================] - 3s 3ms/step - loss: 0.0740 - acc: 0.9749 - val_loss: 0.0678 - val_acc: 0.9774\n",
      "Epoch 8/20\n",
      "840/840 [==============================] - 3s 3ms/step - loss: 0.0680 - acc: 0.9760 - val_loss: 0.0627 - val_acc: 0.9780\n",
      "Epoch 9/20\n",
      "840/840 [==============================] - 3s 3ms/step - loss: 0.0614 - acc: 0.9778 - val_loss: 0.0932 - val_acc: 0.9628\n",
      "Epoch 10/20\n",
      "840/840 [==============================] - 3s 3ms/step - loss: 0.0746 - acc: 0.9714 - val_loss: 0.0638 - val_acc: 0.9764\n",
      "Epoch 11/20\n",
      "840/840 [==============================] - 3s 3ms/step - loss: 0.0584 - acc: 0.9784 - val_loss: 0.0540 - val_acc: 0.9803\n",
      "Epoch 12/20\n",
      "840/840 [==============================] - 3s 3ms/step - loss: 0.0704 - acc: 0.9733 - val_loss: 0.0528 - val_acc: 0.9807\n",
      "Epoch 13/20\n",
      "840/840 [==============================] - 3s 3ms/step - loss: 0.0624 - acc: 0.9767 - val_loss: 0.0597 - val_acc: 0.9775\n",
      "Epoch 14/20\n",
      "840/840 [==============================] - 3s 3ms/step - loss: 0.0554 - acc: 0.9793 - val_loss: 0.0558 - val_acc: 0.9791\n",
      "Epoch 15/20\n",
      "840/840 [==============================] - 3s 3ms/step - loss: 0.0527 - acc: 0.9803 - val_loss: 0.0670 - val_acc: 0.9738\n",
      "Epoch 16/20\n",
      "840/840 [==============================] - 3s 3ms/step - loss: 0.0618 - acc: 0.9763 - val_loss: 0.0484 - val_acc: 0.9820\n",
      "Epoch 17/20\n",
      "840/840 [==============================] - 3s 3ms/step - loss: 0.0463 - acc: 0.9828 - val_loss: 0.0771 - val_acc: 0.9703\n",
      "Epoch 18/20\n",
      "840/840 [==============================] - 3s 3ms/step - loss: 0.0563 - acc: 0.9784 - val_loss: 0.0491 - val_acc: 0.9822\n",
      "Epoch 19/20\n",
      "840/840 [==============================] - 3s 3ms/step - loss: 0.0428 - acc: 0.9842 - val_loss: 0.0428 - val_acc: 0.9844\n",
      "Epoch 20/20\n",
      "840/840 [==============================] - 3s 3ms/step - loss: 0.0423 - acc: 0.9845 - val_loss: 0.0583 - val_acc: 0.9788\n"
     ]
    }
   ],
   "source": [
    "#Fit your model on Training data (20 epochs, 1000 samples per batch, validation_split=0.2)\n",
    "rnn_session_history = RNN_model_session.fit(Xf_train, yf_train,\n",
    "                    epochs=20,\n",
    "                    batch_size=1000, #atleast 1000 records per epoch\n",
    "                    validation_split=0.2)"
   ]
  },
  {
   "cell_type": "code",
   "execution_count": 59,
   "metadata": {
    "colab": {
     "base_uri": "https://localhost:8080/",
     "height": 590
    },
    "id": "ILXRxuM_ymWm",
    "outputId": "b4e86964-4214-4b55-98b7-158b42777e17"
   },
   "outputs": [
    {
     "name": "stdout",
     "output_type": "stream",
     "text": [
      "dict_keys(['loss', 'acc', 'val_loss', 'val_acc'])\n"
     ]
    },
    {
     "data": {
      "image/png": "[encoded data removed]",
      "text/plain": [
       "<Figure size 432x288 with 1 Axes>"
      ]
     },
     "metadata": {
      "needs_background": "light",
      "tags": []
     },
     "output_type": "display_data"
    },
    {
     "data": {
      "image/png": "[encoded data removed]",
      "text/plain": [
       "<Figure size 432x288 with 1 Axes>"
      ]
     },
     "metadata": {
      "needs_background": "light",
      "tags": []
     },
     "output_type": "display_data"
    }
   ],
   "source": [
    "plot_history(rnn_session_history)"
   ]
  },
  {
   "cell_type": "code",
   "execution_count": 60,
   "metadata": {
    "colab": {
     "base_uri": "https://localhost:8080/"
    },
    "id": "3BhRFSlcyqhT",
    "outputId": "af56d1e1-1d69-4f1a-8d25-1cb4a1768613"
   },
   "outputs": [
    {
     "name": "stderr",
     "output_type": "stream",
     "text": [
      "/usr/local/lib/python3.6/dist-packages/tensorflow/python/keras/engine/sequential.py:450: UserWarning: `model.predict_classes()` is deprecated and will be removed after 2021-01-01. Please use instead:* `np.argmax(model.predict(x), axis=-1)`,   if your model does multi-class classification   (e.g. if it uses a `softmax` last-layer activation).* `(model.predict(x) > 0.5).astype(\"int32\")`,   if your model does binary classification   (e.g. if it uses a `sigmoid` last-layer activation).\n",
      "  warnings.warn('`model.predict_classes()` is deprecated and '\n"
     ]
    },
    {
     "name": "stdout",
     "output_type": "stream",
     "text": [
      "Accuracy: 0.978864\n",
      "Precision: 0.976004\n",
      "Recall: 0.712010\n",
      "F1 score: 0.823363\n"
     ]
    }
   ],
   "source": [
    "evaluate_on_test(Xf_test, yf_test, RNN_model_session)"
   ]
  },
  {
   "cell_type": "markdown",
   "metadata": {
    "id": "uuwqg5deSCt0"
   },
   "source": [
    "### GRU"
   ]
  },
  {
   "cell_type": "code",
   "execution_count": 61,
   "metadata": {
    "colab": {
     "base_uri": "https://localhost:8080/"
    },
    "id": "PiyMQy9SRm2H",
    "outputId": "282b792e-24e9-4572-fa97-83c74dc89b8e"
   },
   "outputs": [
    {
     "name": "stdout",
     "output_type": "stream",
     "text": [
      "Model: \"sequential\"\n",
      "_________________________________________________________________\n",
      "Layer (type)                 Output Shape              Param #   \n",
      "=================================================================\n",
      "gru (GRU)                    (None, 1, 100)            40800     \n",
      "_________________________________________________________________\n",
      "gru_1 (GRU)                  (None, 200)               181200    \n",
      "_________________________________________________________________\n",
      "dense (Dense)                (None, 2)                 402       \n",
      "=================================================================\n",
      "Total params: 222,402\n",
      "Trainable params: 222,402\n",
      "Non-trainable params: 0\n",
      "_________________________________________________________________\n"
     ]
    }
   ],
   "source": [
    "tf.keras.backend.clear_session()\n",
    "GRU_model_session = GRU_model(neurons=100, op=34)\n",
    "GRU_model_session.summary()"
   ]
  },
  {
   "cell_type": "code",
   "execution_count": 62,
   "metadata": {
    "colab": {
     "base_uri": "https://localhost:8080/"
    },
    "id": "QNsaEPDtRnJC",
    "outputId": "bf24f8e4-3810-4b41-8c10-caa890e6b676"
   },
   "outputs": [
    {
     "name": "stdout",
     "output_type": "stream",
     "text": [
      "Epoch 1/20\n",
      "840/840 [==============================] - 5s 4ms/step - loss: 0.2081 - acc: 0.9256 - val_loss: 0.1421 - val_acc: 0.9384\n",
      "Epoch 2/20\n",
      "840/840 [==============================] - 3s 4ms/step - loss: 0.1378 - acc: 0.9405 - val_loss: 0.1347 - val_acc: 0.9414\n",
      "Epoch 3/20\n",
      "840/840 [==============================] - 3s 4ms/step - loss: 0.1302 - acc: 0.9433 - val_loss: 0.1263 - val_acc: 0.9455\n",
      "Epoch 4/20\n",
      "840/840 [==============================] - 3s 4ms/step - loss: 0.1223 - acc: 0.9472 - val_loss: 0.1160 - val_acc: 0.9502\n",
      "Epoch 5/20\n",
      "840/840 [==============================] - 3s 4ms/step - loss: 0.1097 - acc: 0.9545 - val_loss: 0.0875 - val_acc: 0.9697\n",
      "Epoch 6/20\n",
      "840/840 [==============================] - 3s 4ms/step - loss: 0.0798 - acc: 0.9714 - val_loss: 0.0577 - val_acc: 0.9800\n",
      "Epoch 7/20\n",
      "840/840 [==============================] - 3s 4ms/step - loss: 0.0571 - acc: 0.9800 - val_loss: 0.0495 - val_acc: 0.9824\n",
      "Epoch 8/20\n",
      "840/840 [==============================] - 3s 4ms/step - loss: 0.0503 - acc: 0.9820 - val_loss: 0.0486 - val_acc: 0.9839\n",
      "Epoch 9/20\n",
      "840/840 [==============================] - 3s 4ms/step - loss: 0.0436 - acc: 0.9845 - val_loss: 0.0414 - val_acc: 0.9851\n",
      "Epoch 10/20\n",
      "840/840 [==============================] - 3s 4ms/step - loss: 0.0372 - acc: 0.9867 - val_loss: 0.0255 - val_acc: 0.9911\n",
      "Epoch 11/20\n",
      "840/840 [==============================] - 3s 4ms/step - loss: 0.0315 - acc: 0.9894 - val_loss: 0.0166 - val_acc: 0.9953\n",
      "Epoch 12/20\n",
      "840/840 [==============================] - 3s 4ms/step - loss: 0.0222 - acc: 0.9935 - val_loss: 0.0218 - val_acc: 0.9927\n",
      "Epoch 13/20\n",
      "840/840 [==============================] - 3s 4ms/step - loss: 0.0175 - acc: 0.9950 - val_loss: 0.0090 - val_acc: 0.9973\n",
      "Epoch 14/20\n",
      "840/840 [==============================] - 3s 4ms/step - loss: 0.0179 - acc: 0.9947 - val_loss: 0.0043 - val_acc: 0.9995\n",
      "Epoch 15/20\n",
      "840/840 [==============================] - 3s 4ms/step - loss: 0.0352 - acc: 0.9903 - val_loss: 0.0125 - val_acc: 0.9965\n",
      "Epoch 16/20\n",
      "840/840 [==============================] - 3s 4ms/step - loss: 0.0238 - acc: 0.9929 - val_loss: 0.0037 - val_acc: 0.9995\n",
      "Epoch 17/20\n",
      "840/840 [==============================] - 3s 4ms/step - loss: 0.0155 - acc: 0.9953 - val_loss: 0.0300 - val_acc: 0.9901\n",
      "Epoch 18/20\n",
      "840/840 [==============================] - 3s 4ms/step - loss: 0.0371 - acc: 0.9880 - val_loss: 0.0150 - val_acc: 0.9953\n",
      "Epoch 19/20\n",
      "840/840 [==============================] - 3s 4ms/step - loss: 0.0109 - acc: 0.9969 - val_loss: 0.0040 - val_acc: 0.9992\n",
      "Epoch 20/20\n",
      "840/840 [==============================] - 3s 4ms/step - loss: 0.0141 - acc: 0.9959 - val_loss: 0.1117 - val_acc: 0.9796\n"
     ]
    }
   ],
   "source": [
    "gru_session_history = GRU_model_session.fit(Xf_train, yf_train,\n",
    "                    epochs=20,\n",
    "                    batch_size=1000,\n",
    "                    validation_split=0.2)"
   ]
  },
  {
   "cell_type": "code",
   "execution_count": 63,
   "metadata": {
    "colab": {
     "base_uri": "https://localhost:8080/",
     "height": 590
    },
    "id": "Ccfs3GZmRnSy",
    "outputId": "c8e43452-0055-4c5c-9ac1-af4b1004824a"
   },
   "outputs": [
    {
     "name": "stdout",
     "output_type": "stream",
     "text": [
      "dict_keys(['loss', 'acc', 'val_loss', 'val_acc'])\n"
     ]
    },
    {
     "data": {
      "image/png": "[encoded data removed]",
      "text/plain": [
       "<Figure size 432x288 with 1 Axes>"
      ]
     },
     "metadata": {
      "needs_background": "light",
      "tags": []
     },
     "output_type": "display_data"
    },
    {
     "data": {
      "image/png": "[encoded data removed]",
      "text/plain": [
       "<Figure size 432x288 with 1 Axes>"
      ]
     },
     "metadata": {
      "needs_background": "light",
      "tags": []
     },
     "output_type": "display_data"
    }
   ],
   "source": [
    "plot_history(gru_session_history)"
   ]
  },
  {
   "cell_type": "code",
   "execution_count": 64,
   "metadata": {
    "colab": {
     "base_uri": "https://localhost:8080/"
    },
    "id": "kjhXFDatRndU",
    "outputId": "d369f2cb-91c1-42ae-b88e-26eb1deba8aa"
   },
   "outputs": [
    {
     "name": "stderr",
     "output_type": "stream",
     "text": [
      "/usr/local/lib/python3.6/dist-packages/tensorflow/python/keras/engine/sequential.py:450: UserWarning: `model.predict_classes()` is deprecated and will be removed after 2021-01-01. Please use instead:* `np.argmax(model.predict(x), axis=-1)`,   if your model does multi-class classification   (e.g. if it uses a `softmax` last-layer activation).* `(model.predict(x) > 0.5).astype(\"int32\")`,   if your model does binary classification   (e.g. if it uses a `sigmoid` last-layer activation).\n",
      "  warnings.warn('`model.predict_classes()` is deprecated and '\n"
     ]
    },
    {
     "name": "stdout",
     "output_type": "stream",
     "text": [
      "Accuracy: 0.979836\n",
      "Precision: 0.868843\n",
      "Recall: 0.834516\n",
      "F1 score: 0.851334\n"
     ]
    }
   ],
   "source": [
    "evaluate_on_test(Xf_test, yf_test, GRU_model_session)"
   ]
  },
  {
   "cell_type": "markdown",
   "metadata": {
    "id": "rTYoJj_rSWO7"
   },
   "source": [
    "### LSTM"
   ]
  },
  {
   "cell_type": "code",
   "execution_count": 65,
   "metadata": {
    "colab": {
     "base_uri": "https://localhost:8080/"
    },
    "id": "yu9jUL1uRnnF",
    "outputId": "aafeeb60-2e27-4a77-f4a4-a85a1db907f2"
   },
   "outputs": [
    {
     "name": "stdout",
     "output_type": "stream",
     "text": [
      "Model: \"sequential\"\n",
      "_________________________________________________________________\n",
      "Layer (type)                 Output Shape              Param #   \n",
      "=================================================================\n",
      "bidirectional (Bidirectional (None, 1, 200)            108000    \n",
      "_________________________________________________________________\n",
      "bidirectional_1 (Bidirection (None, 400)               641600    \n",
      "_________________________________________________________________\n",
      "dense (Dense)                (None, 2)                 802       \n",
      "=================================================================\n",
      "Total params: 750,402\n",
      "Trainable params: 750,402\n",
      "Non-trainable params: 0\n",
      "_________________________________________________________________\n"
     ]
    }
   ],
   "source": [
    "tf.keras.backend.clear_session()\n",
    "LSTM_model_session = LSTM_model(neurons=100, op=34)\n",
    "LSTM_model_session.summary()"
   ]
  },
  {
   "cell_type": "code",
   "execution_count": 66,
   "metadata": {
    "colab": {
     "base_uri": "https://localhost:8080/"
    },
    "id": "TK_d3E6aRnw_",
    "outputId": "fb9c6234-9aa8-4f57-aa8e-b46ec4caeb87"
   },
   "outputs": [
    {
     "name": "stdout",
     "output_type": "stream",
     "text": [
      "Epoch 1/20\n",
      "840/840 [==============================] - 11s 9ms/step - loss: 0.2098 - acc: 0.9275 - val_loss: 0.1407 - val_acc: 0.9401\n",
      "Epoch 2/20\n",
      "840/840 [==============================] - 6s 7ms/step - loss: 0.1346 - acc: 0.9412 - val_loss: 0.1317 - val_acc: 0.9422\n",
      "Epoch 3/20\n",
      "840/840 [==============================] - 6s 7ms/step - loss: 0.1207 - acc: 0.9490 - val_loss: 0.1073 - val_acc: 0.9563\n",
      "Epoch 4/20\n",
      "840/840 [==============================] - 6s 7ms/step - loss: 0.0966 - acc: 0.9619 - val_loss: 0.0568 - val_acc: 0.9809\n",
      "Epoch 5/20\n",
      "840/840 [==============================] - 6s 7ms/step - loss: 0.0538 - acc: 0.9813 - val_loss: 0.0348 - val_acc: 0.9893\n",
      "Epoch 6/20\n",
      "840/840 [==============================] - 6s 7ms/step - loss: 0.0386 - acc: 0.9859 - val_loss: 0.0288 - val_acc: 0.9903\n",
      "Epoch 7/20\n",
      "840/840 [==============================] - 6s 7ms/step - loss: 0.0369 - acc: 0.9874 - val_loss: 0.0263 - val_acc: 0.9904\n",
      "Epoch 8/20\n",
      "840/840 [==============================] - 6s 7ms/step - loss: 0.0303 - acc: 0.9889 - val_loss: 0.1809 - val_acc: 0.9676\n",
      "Epoch 9/20\n",
      "840/840 [==============================] - 6s 7ms/step - loss: 0.0432 - acc: 0.9850 - val_loss: 0.0569 - val_acc: 0.9786\n",
      "Epoch 10/20\n",
      "840/840 [==============================] - 6s 7ms/step - loss: 0.0349 - acc: 0.9872 - val_loss: 0.0272 - val_acc: 0.9899\n",
      "Epoch 11/20\n",
      "840/840 [==============================] - 6s 7ms/step - loss: 0.0255 - acc: 0.9906 - val_loss: 0.1054 - val_acc: 0.9645\n",
      "Epoch 12/20\n",
      "840/840 [==============================] - 6s 7ms/step - loss: 0.0386 - acc: 0.9867 - val_loss: 0.0319 - val_acc: 0.9897\n",
      "Epoch 13/20\n",
      "840/840 [==============================] - 6s 7ms/step - loss: 0.0230 - acc: 0.9920 - val_loss: 0.0192 - val_acc: 0.9935\n",
      "Epoch 14/20\n",
      "840/840 [==============================] - 6s 7ms/step - loss: 0.0290 - acc: 0.9901 - val_loss: 0.0292 - val_acc: 0.9893\n",
      "Epoch 15/20\n",
      "840/840 [==============================] - 6s 7ms/step - loss: 0.0234 - acc: 0.9914 - val_loss: 0.0278 - val_acc: 0.9888\n",
      "Epoch 16/20\n",
      "840/840 [==============================] - 6s 7ms/step - loss: 0.0197 - acc: 0.9930 - val_loss: 0.0139 - val_acc: 0.9948\n",
      "Epoch 17/20\n",
      "840/840 [==============================] - 6s 7ms/step - loss: 0.0282 - acc: 0.9915 - val_loss: 0.0583 - val_acc: 0.9808\n",
      "Epoch 18/20\n",
      "840/840 [==============================] - 6s 7ms/step - loss: 0.0445 - acc: 0.9845 - val_loss: 0.0255 - val_acc: 0.9916\n",
      "Epoch 19/20\n",
      "840/840 [==============================] - 6s 7ms/step - loss: 0.0250 - acc: 0.9916 - val_loss: 0.0262 - val_acc: 0.9910\n",
      "Epoch 20/20\n",
      "840/840 [==============================] - 6s 7ms/step - loss: 0.0321 - acc: 0.9913 - val_loss: 0.0096 - val_acc: 0.9972\n"
     ]
    }
   ],
   "source": [
    "lstm_session_history = LSTM_model_session.fit(Xf_train, yf_train,\n",
    "                    epochs=20,\n",
    "                    batch_size=1000,\n",
    "                    validation_split=0.2)"
   ]
  },
  {
   "cell_type": "code",
   "execution_count": 67,
   "metadata": {
    "colab": {
     "base_uri": "https://localhost:8080/",
     "height": 590
    },
    "id": "JcrpUkjeRn6n",
    "outputId": "0427ff36-a105-4d38-8e59-5a0936cd61ce"
   },
   "outputs": [
    {
     "name": "stdout",
     "output_type": "stream",
     "text": [
      "dict_keys(['loss', 'acc', 'val_loss', 'val_acc'])\n"
     ]
    },
    {
     "data": {
      "image/png": "[encoded data removed]",
      "text/plain": [
       "<Figure size 432x288 with 1 Axes>"
      ]
     },
     "metadata": {
      "needs_background": "light",
      "tags": []
     },
     "output_type": "display_data"
    },
    {
     "data": {
      "image/png": "[encoded data removed]",
      "text/plain": [
       "<Figure size 432x288 with 1 Axes>"
      ]
     },
     "metadata": {
      "needs_background": "light",
      "tags": []
     },
     "output_type": "display_data"
    }
   ],
   "source": [
    "plot_history(lstm_session_history)"
   ]
  },
  {
   "cell_type": "code",
   "execution_count": 68,
   "metadata": {
    "colab": {
     "base_uri": "https://localhost:8080/"
    },
    "id": "BNMe7fDvSbiT",
    "outputId": "ba650b6e-1d85-4529-98b0-3a767eaf52ad"
   },
   "outputs": [
    {
     "name": "stderr",
     "output_type": "stream",
     "text": [
      "/usr/local/lib/python3.6/dist-packages/tensorflow/python/keras/engine/sequential.py:450: UserWarning: `model.predict_classes()` is deprecated and will be removed after 2021-01-01. Please use instead:* `np.argmax(model.predict(x), axis=-1)`,   if your model does multi-class classification   (e.g. if it uses a `softmax` last-layer activation).* `(model.predict(x) > 0.5).astype(\"int32\")`,   if your model does binary classification   (e.g. if it uses a `sigmoid` last-layer activation).\n",
      "  warnings.warn('`model.predict_classes()` is deprecated and '\n"
     ]
    },
    {
     "name": "stdout",
     "output_type": "stream",
     "text": [
      "Accuracy: 0.997336\n",
      "Precision: 0.998701\n",
      "Recall: 0.962741\n",
      "F1 score: 0.980391\n"
     ]
    }
   ],
   "source": [
    "evaluate_on_test(Xf_test, yf_test, LSTM_model_session)"
   ]
  },
  {
   "cell_type": "markdown",
   "metadata": {
    "id": "ocx8Ydrey0-W"
   },
   "source": [
    "# Comment on what you would suggest to your manager?\n",
    "\n",
    "\n",
    "*  Is feature-level data necessary? What metrics suggest that?\n",
    "  - Yes, in this case feature-level data offers a massive boost in our performance metrics over the sequence-level data. Our best performing LSTM using feature-level data had an F1 score of 0.98 and recall of 0.96. This significantly outperforms the best model trained on sequence data, a simple RNN which achieved an F1 score of 0.39.\n",
    "*  Is sequence-level data sufficient? What sequence size would you suggest?\n",
    "  - No, ideally we would use feature-level data, which enabled us to get much better F1 and recall scores. If we only had sequence-level data available, the shorter sequences (10 or less) outperformed the longer ones (300 or less). This would be a great area for further research to determine the best sequence length.\n",
    "\n"
   ]
  },
  {
   "cell_type": "code",
   "execution_count": null,
   "metadata": {},
   "outputs": [],
   "source": []
  }
 ],
 "metadata": {
  "accelerator": "GPU",
  "colab": {
   "collapsed_sections": [],
   "machine_shape": "hm",
   "name": "Sequence_Learning_on_Cosmetics_Data_4B_v1_cpm.ipynb",
   "provenance": []
  },
  "kernelspec": {
   "display_name": "Python 3",
   "language": "python",
   "name": "python3"
  },
  "language_info": {
   "codemirror_mode": {
    "name": "ipython",
    "version": 3
   },
   "file_extension": ".py",
   "mimetype": "text/x-python",
   "name": "python",
   "nbconvert_exporter": "python",
   "pygments_lexer": "ipython3",
   "version": "3.8.3"
  }
 },
 "nbformat": 4,
 "nbformat_minor": 4
}
